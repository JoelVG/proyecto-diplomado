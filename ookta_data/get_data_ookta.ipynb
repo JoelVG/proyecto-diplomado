{
 "cells": [
  {
   "cell_type": "code",
   "execution_count": 5,
   "id": "31201abc-58c6-47f6-9576-db84c5cb565a",
   "metadata": {},
   "outputs": [],
   "source": [
    "import pandas as pd\n",
    "from shapely.geometry import Polygon, Point\n",
    "import matplotlib.pyplot as plt\n",
    "import shapely.wkt\n",
    "import geopandas as gpd\n",
    "from datetime import datetime"
   ]
  },
  {
   "cell_type": "code",
   "execution_count": 6,
   "id": "3da5b8dc-e621-4616-937a-111d2ece866a",
   "metadata": {},
   "outputs": [],
   "source": [
    "def quarter_start(year: int, q: int) -> datetime:\n",
    "    if not 1 <= q <= 4:\n",
    "        raise ValueError(\"Quarter must be within [1, 2, 3, 4]\")\n",
    "\n",
    "    month = [1, 4, 7, 10]\n",
    "    return datetime(year, month[q - 1], 1)\n",
    "\n",
    "\n",
    "def get_tile_url(service_type: str, year: int, q: int) -> str:\n",
    "    dt = quarter_start(year, q)\n",
    "\n",
    "    base_url = \"https://ookla-open-data.s3-us-west-2.amazonaws.com/shapefiles/performance\"\n",
    "    url = f\"{base_url}/type%3D{service_type}/year%3D{dt:%Y}/quarter%3D{q}/{dt:%Y-%m-%d}_performance_{service_type}_tiles.zip\"\n",
    "    return url"
   ]
  },
  {
   "cell_type": "code",
   "execution_count": 7,
   "id": "622f6160-5105-4807-a41b-b6f4db620467",
   "metadata": {},
   "outputs": [
    {
     "data": {
      "text/plain": [
       "'https://ookla-open-data.s3-us-west-2.amazonaws.com/shapefiles/performance/type%3Dfixed/year%3D2019/quarter%3D4/2019-10-01_performance_fixed_tiles.zip'"
      ]
     },
     "execution_count": 7,
     "metadata": {},
     "output_type": "execute_result"
    }
   ],
   "source": [
    "# Extraemos la url del zip que contiene los datos del año 2019 en el quarter 4\n",
    "file_url = get_tile_url(service_type=\"fixed\", year=2019, q=4)\n",
    "file_url"
   ]
  },
  {
   "cell_type": "code",
   "execution_count": null,
   "id": "7323137f-cfba-473c-b275-7017929acf8c",
   "metadata": {},
   "outputs": [],
   "source": [
    "tiles = gpd.read_file(file_url)"
   ]
  },
  {
   "cell_type": "code",
   "execution_count": null,
   "id": "5ca58261-c3c6-4068-973f-e317001e93a4",
   "metadata": {},
   "outputs": [],
   "source": [
    "tiles.head()"
   ]
  },
  {
   "cell_type": "code",
   "execution_count": null,
   "id": "d78f0227-d9f8-4855-959d-44d90741d444",
   "metadata": {},
   "outputs": [],
   "source": []
  }
 ],
 "metadata": {
  "kernelspec": {
   "display_name": "Python 3 (ipykernel)",
   "language": "python",
   "name": "python3"
  },
  "language_info": {
   "codemirror_mode": {
    "name": "ipython",
    "version": 3
   },
   "file_extension": ".py",
   "mimetype": "text/x-python",
   "name": "python",
   "nbconvert_exporter": "python",
   "pygments_lexer": "ipython3",
   "version": "3.10.9"
  }
 },
 "nbformat": 4,
 "nbformat_minor": 5
}
