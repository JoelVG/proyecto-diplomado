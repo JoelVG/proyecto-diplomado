{
 "cells": [
  {
   "cell_type": "markdown",
   "id": "ba82e7cd-7fb8-49a6-bdbc-1b785f0178bc",
   "metadata": {},
   "source": [
    "# Extraer datos de: [Dataset](https://ookla-open-data.s3-us-west-2.amazonaws.com/shapefiles/performance/type%3Dfixed/year%3D2019/quarter%3D1/2019-01-01_performance_fixed_tiles.zip) y filtrarlos únicamente para Bolivia\n",
    "Nota: Se recomienda usar los archivos tipo .shp directamente (`/shapefiles/performance` no `/performance`) y no como se muestra a continuación desde el .parquet. Este notebook queda únicamente como muestra de cómo se puede hacer la manipulación y conversión de este tipo de archivos y datos presentes.  \n",
    "### Ref: [Speedtest by Ookla Global Fixed and Mobile Network Performance Maps](https://registry.opendata.aws/speedtest-global-performance/)"
   ]
  },
  {
   "cell_type": "code",
   "execution_count": 69,
   "id": "76b84094-0169-4205-8e11-f9f227588a1c",
   "metadata": {},
   "outputs": [],
   "source": [
    "import pandas as pd\n",
    "from shapely.geometry import Polygon, Point\n",
    "import matplotlib.pyplot as plt\n",
    "import shapely.wkt\n",
    "import geopandas as gpd"
   ]
  },
  {
   "cell_type": "code",
   "execution_count": 2,
   "id": "8e58df2a-b206-42e0-9cfc-0ddb0bf4da46",
   "metadata": {},
   "outputs": [],
   "source": [
    "df = pd.read_parquet('performance/type=fixed/year=2019/quarter=1/2019-01-01_performance_fixed_tiles.parquet', engine='pyarrow')"
   ]
  },
  {
   "cell_type": "code",
   "execution_count": 3,
   "id": "63557458-51c3-4d43-b4cc-5150ab5a23c1",
   "metadata": {},
   "outputs": [
    {
     "data": {
      "text/html": [
       "<div>\n",
       "<style scoped>\n",
       "    .dataframe tbody tr th:only-of-type {\n",
       "        vertical-align: middle;\n",
       "    }\n",
       "\n",
       "    .dataframe tbody tr th {\n",
       "        vertical-align: top;\n",
       "    }\n",
       "\n",
       "    .dataframe thead th {\n",
       "        text-align: right;\n",
       "    }\n",
       "</style>\n",
       "<table border=\"1\" class=\"dataframe\">\n",
       "  <thead>\n",
       "    <tr style=\"text-align: right;\">\n",
       "      <th></th>\n",
       "      <th>quadkey</th>\n",
       "      <th>tile</th>\n",
       "      <th>avg_d_kbps</th>\n",
       "      <th>avg_u_kbps</th>\n",
       "      <th>avg_lat_ms</th>\n",
       "      <th>tests</th>\n",
       "      <th>devices</th>\n",
       "    </tr>\n",
       "  </thead>\n",
       "  <tbody>\n",
       "    <tr>\n",
       "      <th>0</th>\n",
       "      <td>0022133222312322</td>\n",
       "      <td>POLYGON((-160.02685546875 70.6435894914449, -1...</td>\n",
       "      <td>8763</td>\n",
       "      <td>3646</td>\n",
       "      <td>45</td>\n",
       "      <td>1</td>\n",
       "      <td>1</td>\n",
       "    </tr>\n",
       "    <tr>\n",
       "      <th>1</th>\n",
       "      <td>0022133222330013</td>\n",
       "      <td>POLYGON((-160.032348632812 70.6399478155463, -...</td>\n",
       "      <td>9195</td>\n",
       "      <td>3347</td>\n",
       "      <td>43</td>\n",
       "      <td>1</td>\n",
       "      <td>1</td>\n",
       "    </tr>\n",
       "    <tr>\n",
       "      <th>2</th>\n",
       "      <td>0022133222330023</td>\n",
       "      <td>POLYGON((-160.043334960938 70.6363054807905, -...</td>\n",
       "      <td>6833</td>\n",
       "      <td>3788</td>\n",
       "      <td>42</td>\n",
       "      <td>1</td>\n",
       "      <td>1</td>\n",
       "    </tr>\n",
       "    <tr>\n",
       "      <th>3</th>\n",
       "      <td>0022133222330100</td>\n",
       "      <td>POLYGON((-160.02685546875 70.6417687358462, -1...</td>\n",
       "      <td>8895</td>\n",
       "      <td>3429</td>\n",
       "      <td>43</td>\n",
       "      <td>2</td>\n",
       "      <td>2</td>\n",
       "    </tr>\n",
       "    <tr>\n",
       "      <th>4</th>\n",
       "      <td>0022320121121332</td>\n",
       "      <td>POLYGON((-166.739501953125 68.3526207780586, -...</td>\n",
       "      <td>4877</td>\n",
       "      <td>935</td>\n",
       "      <td>45</td>\n",
       "      <td>3</td>\n",
       "      <td>2</td>\n",
       "    </tr>\n",
       "  </tbody>\n",
       "</table>\n",
       "</div>"
      ],
      "text/plain": [
       "            quadkey                                               tile  \\\n",
       "0  0022133222312322  POLYGON((-160.02685546875 70.6435894914449, -1...   \n",
       "1  0022133222330013  POLYGON((-160.032348632812 70.6399478155463, -...   \n",
       "2  0022133222330023  POLYGON((-160.043334960938 70.6363054807905, -...   \n",
       "3  0022133222330100  POLYGON((-160.02685546875 70.6417687358462, -1...   \n",
       "4  0022320121121332  POLYGON((-166.739501953125 68.3526207780586, -...   \n",
       "\n",
       "   avg_d_kbps  avg_u_kbps  avg_lat_ms  tests  devices  \n",
       "0        8763        3646          45      1        1  \n",
       "1        9195        3347          43      1        1  \n",
       "2        6833        3788          42      1        1  \n",
       "3        8895        3429          43      2        2  \n",
       "4        4877         935          45      3        2  "
      ]
     },
     "execution_count": 3,
     "metadata": {},
     "output_type": "execute_result"
    }
   ],
   "source": [
    "df.head()"
   ]
  },
  {
   "cell_type": "code",
   "execution_count": 4,
   "id": "bc94a916-762c-4451-b5dd-7c7c0a9f8f45",
   "metadata": {},
   "outputs": [
    {
     "data": {
      "text/plain": [
       "'POLYGON((-160.02685546875 70.6435894914449, -160.021362304688 70.6435894914449, -160.021362304688 70.6417687358462, -160.02685546875 70.6417687358462, -160.02685546875 70.6435894914449))'"
      ]
     },
     "execution_count": 4,
     "metadata": {},
     "output_type": "execute_result"
    }
   ],
   "source": [
    "p1 = df['tile'][0]\n",
    "p1"
   ]
  },
  {
   "cell_type": "markdown",
   "id": "2b49e34d-9629-48d0-8454-8f15f97102f3",
   "metadata": {},
   "source": [
    "## Leemos las coordenadas del polígono que forma Bolivia (http://boundaries.us/country/bo/)\n",
    "Nota: La latitud (expresada como Y) proporciona la localización de un lugar en dirección Norte o Sur desde el ecuador mientras que la longitud (expresada com X) proporciona la localización de un lugar en dirección Este u Oeste desde el meridiano de Greenwich."
   ]
  },
  {
   "cell_type": "code",
   "execution_count": 5,
   "id": "250d6236-32fd-4793-a90c-797bddb7b665",
   "metadata": {},
   "outputs": [],
   "source": [
    "df_bol = pd.read_csv('../bo.csv')"
   ]
  },
  {
   "cell_type": "code",
   "execution_count": 6,
   "id": "205f9899-94eb-4d15-8b28-c943ab6d48af",
   "metadata": {},
   "outputs": [
    {
     "data": {
      "text/html": [
       "<div>\n",
       "<style scoped>\n",
       "    .dataframe tbody tr th:only-of-type {\n",
       "        vertical-align: middle;\n",
       "    }\n",
       "\n",
       "    .dataframe tbody tr th {\n",
       "        vertical-align: top;\n",
       "    }\n",
       "\n",
       "    .dataframe thead th {\n",
       "        text-align: right;\n",
       "    }\n",
       "</style>\n",
       "<table border=\"1\" class=\"dataframe\">\n",
       "  <thead>\n",
       "    <tr style=\"text-align: right;\">\n",
       "      <th></th>\n",
       "      <th>lat</th>\n",
       "      <th>long</th>\n",
       "    </tr>\n",
       "  </thead>\n",
       "  <tbody>\n",
       "    <tr>\n",
       "      <th>0</th>\n",
       "      <td>-22.09473</td>\n",
       "      <td>-65.19020</td>\n",
       "    </tr>\n",
       "    <tr>\n",
       "      <th>1</th>\n",
       "      <td>-22.10000</td>\n",
       "      <td>-65.59889</td>\n",
       "    </tr>\n",
       "    <tr>\n",
       "      <th>2</th>\n",
       "      <td>-22.10889</td>\n",
       "      <td>-65.65750</td>\n",
       "    </tr>\n",
       "    <tr>\n",
       "      <th>3</th>\n",
       "      <td>-22.11334</td>\n",
       "      <td>-65.73418</td>\n",
       "    </tr>\n",
       "    <tr>\n",
       "      <th>4</th>\n",
       "      <td>-22.11167</td>\n",
       "      <td>-65.74806</td>\n",
       "    </tr>\n",
       "  </tbody>\n",
       "</table>\n",
       "</div>"
      ],
      "text/plain": [
       "        lat      long\n",
       "0 -22.09473 -65.19020\n",
       "1 -22.10000 -65.59889\n",
       "2 -22.10889 -65.65750\n",
       "3 -22.11334 -65.73418\n",
       "4 -22.11167 -65.74806"
      ]
     },
     "execution_count": 6,
     "metadata": {},
     "output_type": "execute_result"
    }
   ],
   "source": [
    "df_bol.head()"
   ]
  },
  {
   "cell_type": "code",
   "execution_count": 7,
   "id": "b97c7290-6f66-474c-8354-c12a20642ca4",
   "metadata": {},
   "outputs": [],
   "source": [
    "# Generamos un Polígono con las coordenadas que mapean a Bolivia\n",
    "bolivia_coor = [(long, lat) for lat, long in zip(df_bol['lat'], df_bol['long'])]"
   ]
  },
  {
   "cell_type": "code",
   "execution_count": 8,
   "id": "469878df-cfa8-4f73-b978-8e01cc109dc3",
   "metadata": {},
   "outputs": [
    {
     "data": {
      "image/png": "[encoded data removed]",
      "text/plain": [
       "<Figure size 640x480 with 1 Axes>"
      ]
     },
     "metadata": {},
     "output_type": "display_data"
    }
   ],
   "source": [
    "polygon = plt.Polygon(bolivia_coor, closed=True, fill=None)\n",
    "\n",
    "# Creamos el plot y agregamos el polígono\n",
    "_, ax = plt.subplots()\n",
    "ax.add_patch(polygon)\n",
    "\n",
    "# Configuramos los límites del gráfico\n",
    "ax.set_xlim(-72.5, -56)\n",
    "ax.set_ylim(-25, -7.5)\n",
    "\n",
    "plt.show()"
   ]
  },
  {
   "cell_type": "markdown",
   "id": "638b5b39-9317-466b-9efa-e21cffae4a95",
   "metadata": {},
   "source": [
    "## Procedemos a filtrar las coordenadas del dataset origen con aquellos polígonos en donde su área caiga dentro de nuestro polígono de Bolivia"
   ]
  },
  {
   "cell_type": "code",
   "execution_count": 85,
   "id": "38143d45-f3b7-4d18-9c15-c3b58249a33f",
   "metadata": {},
   "outputs": [
    {
     "data": {
      "text/plain": [
       "[(-65.1902, -22.09473),\n",
       " (-65.59889, -22.1),\n",
       " (-65.6575, -22.10889),\n",
       " (-65.73418, -22.11334),\n",
       " (-65.74806, -22.11167)]"
      ]
     },
     "execution_count": 85,
     "metadata": {},
     "output_type": "execute_result"
    }
   ],
   "source": [
    "bolivia_coor[:5]"
   ]
  },
  {
   "cell_type": "code",
   "execution_count": 58,
   "id": "72462845-a5ed-42a9-a045-8127dba7b35c",
   "metadata": {},
   "outputs": [],
   "source": [
    "# Generamos un polígono de Bolivia\n",
    "bolivia_polygon = Polygon(bolivia_coor)"
   ]
  },
  {
   "cell_type": "code",
   "execution_count": 59,
   "id": "e33b4a68-61c7-485c-8da4-06dba2de0ab2",
   "metadata": {},
   "outputs": [
    {
     "data": {
      "image/svg+xml": [
       "<svg xmlns=\"http://www.w3.org/2000/svg\" xmlns:xlink=\"http://www.w3.org/1999/xlink\" width=\"100.0\" height=\"100.0\" viewBox=\"-70.1850664 -23.4299864 13.192822799999995 14.2796628\" preserveAspectRatio=\"xMinYMin meet\"><g transform=\"matrix(1,0,0,-1,0,-32.58031)\"><path fill-rule=\"evenodd\" fill=\"#66cc99\" stroke=\"#555555\" stroke-width=\"0.285593256\" opacity=\"0.6\" d=\"M -65.1902,-22.09473 L -65.59889,-22.1 L -65.6575,-22.10889 L -65.73418,-22.11334 L -65.74806,-22.11167 L -65.75389,-22.11 L -65.7639,-22.10528 L -65.81279,-22.07139 L -65.86751,-22.00556 L -65.92612,-21.93333 L -66.07752,-21.83195 L -66.19473,-21.78833 L -66.22301,-21.78052 L -66.23444,-21.79031 L -66.23807,-21.80361 L -66.26306,-21.90223 L -66.28195,-21.97806 L -66.29112,-22.03195 L -66.2914,-22.03861 L -66.30695,-22.07695 L -66.34538,-22.11663 L -66.40224,-22.13417 L -66.49556,-22.16111 L -66.55972,-22.17834 L -66.61639,-22.19195 L -66.6889,-22.19611 L -66.73668,-22.2275 L -66.77139,-22.375 L -66.77473,-22.42695 L -66.85028,-22.45306 L -66.92639,-22.47806 L -67.02251,-22.52389 L -67.01807,-22.57389 L -67.01306,-22.62556 L -67.01222,-22.64278 L -67.12306,-22.71806 L -67.12584,-22.72111 L -67.18362,-22.82167 L -67.33501,-22.85278 L -67.57918,-22.90111 L -67.79334,-22.87806 L -67.8764,-22.82806 L -67.88417,-22.71278 L -67.8514,-22.56056 L -67.84807,-22.54917 L -67.88667,-22.43278 L -67.89446,-22.42 L -67.93279,-22.30028 L -67.92389,-22.28028 L -67.92195,-22.2675 L -67.92223,-22.24195 L -67.94362,-22.10722 L -67.94528,-22.10222 L -67.97278,-22.06028 L -67.99695,-22.04695 L -68.08446,-21.96695 L -68.08585,-21.95639 L -68.08751,-21.91306 L -68.08612,-21.88028 L -68.08751,-21.84278 L -68.09056,-21.82 L -68.10278,-21.75306 L -68.10751,-21.7375 L -68.12195,-21.69806 L -68.13335,-21.67528 L -68.14418,-21.65861 L -68.17001,-21.62778 L -68.18362,-21.61306 L -68.18861,-21.60639 L -68.18861,-21.29695 L -68.22981,-21.2332 L -68.42111,-20.93917 L -68.42696,-20.93861 L -68.45361,-20.93945 L -68.4789,-20.94167 L -68.5,-20.93945 L -68.5114,-20.93584 L -68.52724,-20.92917 L -68.53639,-20.92362 L -68.54363,-20.91667 L -68.55057,-20.90945 L -68.55806,-20.89639 L -68.55769,-20.89445 L -68.56001,-20.89139 L -68.56557,-20.87028 L -68.56751,-20.74223 L -68.56529,-20.73 L -68.55972,-20.72084 L -68.5325,-20.69111 L -68.52528,-20.68417 L -68.50917,-20.67167 L -68.47696,-20.65472 L -68.4689,-20.64861 L -68.46584,-20.64473 L -68.4639,-20.63917 L -68.46417,-20.63306 L -68.46668,-20.62889 L -68.47334,-20.62139 L -68.49251,-20.60473 L -68.54945,-20.5675 L -68.57085,-20.55889 L -68.59973,-20.55 L -68.62167,-20.54195 L -68.63722,-20.53528 L -68.66196,-20.52306 L -68.68472,-20.50972 L -68.69724,-20.50028 L -68.72473,-20.47084 L -68.73918,-20.45028 L -68.74945,-20.43306 L -68.75307,-20.42306 L -68.75696,-20.40695 L -68.7589,-20.38973 L -68.75751,-20.37611 L -68.75307,-20.36611 L -68.74973,-20.36223 L -68.74196,-20.35584 L -68.72806,-20.34861 L -68.70361,-20.33806 L -68.72112,-20.23778 L -68.76056,-20.13973 L -68.77028,-20.13472 L -68.77445,-20.13167 L -68.78111,-20.12445 L -68.78362,-20.12 L -68.78723,-20.11 L -68.78667,-20.10334 L -68.78473,-20.09778 L -68.78195,-20.09333 L -68.77528,-20.08556 L -68.76695,-20.08 L -68.65056,-20.05667 L -68.61862,-20.05084 L -68.61195,-20.05056 L -68.59334,-20.05473 L -68.58778,-20.05667 L -68.58112,-20.05778 L -68.57445,-20.0575 L -68.56778,-20.04223 L -68.52335,-19.91639 L -68.56696,-19.83389 L -68.62611,-19.78584 L -68.68224,-19.74778 L -68.69278,-19.74361 L -68.69695,-19.74056 L -68.69945,-19.73612 L -68.69972,-19.73 L -68.68973,-19.70723 L -68.68362,-19.69889 L -68.60196,-19.60778 L -68.57256,-19.56654 L -68.55139,-19.53972 L -68.45195,-19.44389 L -68.44112,-19.44056 L -68.4375,-19.43723 L -68.4375,-19.43028 L -68.44084,-19.42028 L -68.44751,-19.4125 L -68.49695,-19.36389 L -68.54695,-19.32195 L -68.55556,-19.31667 L -68.58,-19.30473 L -68.58528,-19.30278 L -68.60834,-19.29723 L -68.63362,-19.28695 L -68.65085,-19.27723 L -68.65445,-19.27389 L -68.66223,-19.26083 L -68.74085,-19.17778 L -68.7825,-19.14195 L -68.89473,-19.07028 L -68.90224,-19.06334 L -68.90779,-19.05528 L -68.96584,-18.95306 L -68.93279,-18.88278 L -68.9514,-18.84584 L -69.00057,-18.74306 L -69.02445,-18.65861 L -69.02918,-18.61139 L -69.0325,-18.56 L -69.02556,-18.5075 L -69.02278,-18.48972 L -69.02417,-18.47722 L -69.02695,-18.46639 L -69.03334,-18.45195 L -69.03835,-18.44306 L -69.04112,-18.43889 L -69.05612,-18.41889 L -69.05972,-18.41556 L -69.06917,-18.40389 L -69.0739,-18.395 L -69.07556,-18.38945 L -69.08556,-18.28584 L -69.08667,-18.23945 L -69.08751,-18.23333 L -69.09168,-18.22361 L -69.09807,-18.21611 L -69.11223,-18.20223 L -69.11667,-18.19945 L -69.13112,-18.18584 L -69.13973,-18.17334 L -69.14751,-18.16028 L -69.14973,-18.15556 L -69.15028,-18.14917 L -69.14806,-18.13778 L -69.14279,-18.12889 L -69.1364,-18.12139 L -69.13278,-18.11778 L -69.12029,-18.10917 L -69.11585,-18.10639 L -69.10584,-18.10222 L -69.08417,-18.08861 L -69.08057,-18.08528 L -69.07472,-18.07723 L -69.07167,-18.05945 L -69.07167,-18.03889 L -69.07494,-18.03792 L -69.12779,-18.03028 L -69.13945,-18.0275 L -69.28723,-17.9825 L -69.29167,-17.97973 L -69.29889,-17.97306 L -69.30335,-17.96334 L -69.3089,-17.94806 L -69.31529,-17.92695 L -69.3214,-17.89195 L -69.31807,-17.83306 L -69.31862,-17.82 L -69.32001,-17.81445 L -69.33057,-17.79028 L -69.35556,-17.74556 L -69.37611,-17.72695 L -69.48361,-17.63556 L -69.49085,-17.63028 L -69.49973,-17.50528 L -69.50111,-17.37889 L -69.53362,-17.34778 L -69.59084,-17.29528 L -69.65619,-17.28725 L -69.6189,-17.21473 L -69.59279,-17.18472 L -69.53778,-17.13417 L -69.52528,-17.12556 L -69.47334,-17.09556 L -69.46861,-17.09361 L -69.46335,-17.09445 L -69.4514,-17.10334 L -69.4464,-17.10278 L -69.4064,-17.07222 L -69.38834,-17.055 L -69.38556,-17.05084 L -69.32224,-16.92834 L -69.31917,-16.92417 L -69.19196,-16.77806 L -69.11585,-16.71389 L -69.10445,-16.71139 L -69.09445,-16.70723 L -69.05751,-16.6875 L -69.0439,-16.68 L -69.01807,-16.66361 L -69.01112,-16.65695 L -69.0023,-16.64376 L -69.00754,-16.63651 L -69.02112,-16.62222 L -69.02528,-16.61917 L -69.0314,-16.61195 L -69.03389,-16.60695 L -69.03751,-16.59639 L -69.04112,-16.55417 L -69.04167,-16.54112 L -69.03418,-16.47306 L -68.99085,-16.41972 L -68.84056,-16.35667 L -68.82613,-16.35139 L -68.82251,-16.33973 L -68.82333,-16.32778 L -68.82445,-16.32167 L -68.82668,-16.31611 L -68.83084,-16.30639 L -68.83362,-16.3025 L -68.84084,-16.29556 L -68.84862,-16.28917 L -68.96056,-16.21222 L -68.96501,-16.20945 L -68.97,-16.2075 L -68.97723,-16.20723 L -69.04028,-16.20695 L -69.04668,-16.2075 L -69.05168,-16.20972 L -69.0625,-16.22 L -69.06834,-16.22806 L -69.07278,-16.23084 L -69.07918,-16.23139 L -69.13417,-16.22361 L -69.14584,-16.22084 L -69.15056,-16.21861 L -69.15918,-16.21306 L -69.16278,-16.20972 L -69.21195,-16.16056 L -69.21474,-16.15639 L -69.21668,-16.15139 L -69.42001,-15.625 L -69.42195,-15.61806 L -69.3325,-15.43889 L -69.26834,-15.32695 L -69.2014,-15.26472 L -69.19334,-15.25861 L -69.18779,-15.25861 L -69.18224,-15.26 L -69.17223,-15.26417 L -69.16585,-15.265 L -69.15918,-15.26417 L -69.15363,-15.26306 L -69.14418,-15.25834 L -69.13779,-15.25056 L -69.13695,-15.24583 L -69.13612,-15.23 L -69.13806,-15.22528 L -69.17084,-15.18778 L -69.19778,-15.15861 L -69.29501,-15.07945 L -69.37584,-14.97833 L -69.38139,-14.97 L -69.38417,-14.95889 L -69.38417,-14.95195 L -69.36723,-14.80861 L -69.36639,-14.8025 L -69.36418,-14.79778 L -69.36139,-14.79361 L -69.35057,-14.78334 L -69.3364,-14.77639 L -69.31056,-14.76695 L -69.2489,-14.6875 L -69.24861,-14.65417 L -69.24474,-14.61639 L -69.24167,-14.60528 L -69.23668,-14.58945 L -69.23445,-14.58472 L -69.2289,-14.57639 L -69.11557,-14.48417 L -68.99139,-14.39028 L -68.98445,-14.38334 L -68.9814,-14.37917 L -68.97945,-14.37445 L -68.97917,-14.3675 L -68.98222,-14.35667 L -68.99335,-14.34 L -68.99695,-14.33639 L -69.00195,-14.33417 L -69.00696,-14.33361 L -69.00557,-14.25417 L -68.99918,-14.24333 L -68.98862,-14.23306 L -68.98418,-14.23028 L -68.96779,-14.22556 L -68.95001,-14.22222 L -68.91278,-14.21695 L -68.86446,-14.20889 L -68.85945,-14.20667 L -68.85584,-14.20334 L -68.85306,-14.19917 L -68.85223,-14.19306 L -68.85417,-14.17445 L -68.89111,-14.04361 L -68.89557,-14.03389 L -68.89806,-14.02972 L -68.90973,-14.02 L -68.93251,-14.0075 L -68.94223,-14.00333 L -68.95778,-13.99084 L -68.96417,-13.98333 L -68.97278,-13.97084 L -68.97751,-13.96167 L -69.00168,-13.83945 L -69.01418,-13.79111 L -69.06279,-13.70778 L -69.02945,-13.64445 L -69.02251,-13.64445 L -69.01807,-13.64167 L -69.01473,-13.63833 L -69.01167,-13.63417 L -68.97917,-13.56611 L -68.96195,-13.51306 L -68.96056,-13.50056 L -68.95946,-13.45278 L -68.96056,-13.2725 L -68.96834,-13.16611 L -68.9689,-13.10333 L -68.96806,-13.09 L -68.96335,-13.02667 L -68.97168,-13.00722 L -68.97501,-12.99667 L -68.97446,-12.86972 L -68.97362,-12.86334 L -68.97084,-12.85917 L -68.92223,-12.80278 L -68.88167,-12.75889 L -68.87723,-12.75611 L -68.81557,-12.73306 L -68.76834,-12.64417 L -68.74362,-12.58472 L -68.6739,-12.50115 L -68.67751,-12.49583 L -68.69862,-12.45417 L -68.73639,-12.37806 L -68.74945,-12.35028 L -68.88028,-12.08695 L -68.9225,-12.00361 L -68.92807,-11.99306 L -68.95723,-11.94472 L -68.98723,-11.89611 L -69.00084,-11.87528 L -69.06946,-11.76417 L -69.2489,-11.4725 L -69.43251,-11.17361 L -69.50057,-11.0625 L -69.56844,-10.95109 L -69.56751,-10.95056 L -69.54056,-10.95222 L -69.48695,-10.95111 L -69.45084,-10.94806 L -69.44446,-10.94722 L -69.41223,-10.93778 L -69.22278,-10.95083 L -69.07613,-10.96722 L -68.84889,-11.01611 L -68.78445,-11.125 L -68.77918,-11.13361 L -68.77473,-11.13639 L -68.76418,-11.13972 L -68.75778,-11.14056 L -68.70056,-11.13472 L -68.65472,-11.12445 L -68.62083,-11.11639 L -68.58345,-11.10614 L -68.56946,-11.1 L -68.55223,-11.08889 L -68.53111,-11.06834 L -68.52528,-11.06 L -68.51695,-11.05445 L -68.40251,-11.01778 L -68.35667,-11.00611 L -68.3439,-11.0075 L -68.33778,-11.00695 L -68.31307,-10.99667 L -68.28917,-10.98556 L -68.28056,-10.98 L -68.27695,-10.97667 L -68.23029,-10.91167 L -68.12668,-10.76417 L -68.12251,-10.75445 L -68.12112,-10.74889 L -68.11974,-10.72945 L -68.11751,-10.72472 L -68.10196,-10.70528 L -68.08223,-10.69028 L -68.06111,-10.67639 L -68.02585,-10.66278 L -68.00945,-10.65778 L -67.86585,-10.65695 L -67.84557,-10.6575 L -67.82779,-10.66111 L -67.81751,-10.66528 L -67.78723,-10.68417 L -67.74556,-10.7125 L -67.73918,-10.71334 L -67.70334,-10.69472 L -67.675,-10.62 L -67.61168,-10.53222 L -67.60779,-10.52806 L -67.5825,-10.50445 L -67.52918,-10.48111 L -67.50917,-10.47278 L -67.44945,-10.44167 L -67.33334,-10.37 L -67.32501,-10.36445 L -67.32278,-10.35972 L -67.32556,-10.34167 L -67.32834,-10.33056 L -67.32752,-10.32445 L -67.32417,-10.32084 L -67.31307,-10.31806 L -67.30029,-10.31667 L -67.23639,-10.31056 L -67.22917,-10.31056 L -67.21806,-10.31333 L -67.19751,-10.32111 L -67.1864,-10.32361 L -67.17445,-10.325 L -67.08084,-10.27195 L -67.0464,-10.24361 L -66.97084,-10.17222 L -66.95001,-10.15139 L -66.92668,-10.12528 L -66.92389,-10.12111 L -66.89945,-10.09667 L -66.88806,-10.08639 L -66.76028,-9.99084 L -66.73222,-9.97695 L -66.6964,-9.96389 L -66.69057,-9.9625 L -66.66139,-9.95 L -66.6564,-9.94778 L -66.64806,-9.94222 L -66.645,-9.93806 L -66.64002,-9.92222 L -66.64026,-9.91827 L -66.63806,-9.91056 L -66.63445,-9.90695 L -66.62473,-9.90278 L -66.54889,-9.88833 L -66.54251,-9.8875 L -66.48557,-9.88111 L -66.47307,-9.8825 L -66.45001,-9.88806 L -66.44362,-9.88889 L -66.43028,-9.88945 L -66.42445,-9.88806 L -66.38335,-9.86667 L -66.18306,-9.79972 L -66.16695,-9.79472 L -66.08084,-9.77528 L -66.07445,-9.77584 L -65.97195,-9.77972 L -65.8439,-9.77778 L -65.79224,-9.775 L -65.74583,-9.77056 L -65.61279,-9.83306 L -65.60779,-9.835 L -65.60167,-9.83584 L -65.57613,-9.83695 L -65.57001,-9.83639 L -65.56557,-9.83361 L -65.5175,-9.78417 L -65.51529,-9.77945 L -65.51502,-9.76611 L -65.51222,-9.74139 L -65.49251,-9.71917 L -65.44234,-9.6792 L -65.42195,-9.68195 L -65.41057,-9.68472 L -65.40501,-9.68611 L -65.39002,-9.69222 L -65.38196,-9.69778 L -65.37195,-9.70889 L -65.34195,-9.7625 L -65.30585,-9.82806 L -65.30112,-9.83722 L -65.29945,-9.84278 L -65.30084,-9.86056 L -65.3139,-9.88917 L -65.32251,-9.90222 L -65.32723,-9.91139 L -65.33501,-9.93139 L -65.33695,-9.94306 L -65.33695,-9.95695 L -65.33362,-10.03306 L -65.33084,-10.04417 L -65.32861,-10.04917 L -65.31307,-10.07528 L -65.30528,-10.09528 L -65.30223,-10.10639 L -65.28946,-10.18917 L -65.28778,-10.20167 L -65.28862,-10.215 L -65.28973,-10.22056 L -65.30972,-10.28361 L -65.31334,-10.29389 L -65.31946,-10.30167 L -65.33,-10.31195 L -65.34195,-10.32111 L -65.3539,-10.33 L -65.375,-10.35111 L -65.38139,-10.35861 L -65.3889,-10.3725 L -65.39578,-10.39358 L -65.39084,-10.41056 L -65.39168,-10.41695 L -65.39696,-10.43195 L -65.39917,-10.43695 L -65.40668,-10.45 L -65.42584,-10.46611 L -65.44302,-10.46935 L -65.44951,-10.47924 L -65.43918,-10.61278 L -65.43695,-10.62472 L -65.39002,-10.75584 L -65.33862,-10.84083 L -65.33168,-10.8475 L -65.32324,-10.85962 L -65.31584,-10.88084 L -65.30057,-10.96722 L -65.30057,-10.98528 L -65.30196,-10.99056 L -65.30751,-10.99917 L -65.34334,-11.05806 L -65.39362,-11.14945 L -65.40195,-11.16972 L -65.39279,-11.26639 L -65.38863,-11.28306 L -65.34834,-11.40472 L -65.3214,-11.48072 L -65.31279,-11.49306 L -65.30556,-11.5 L -65.30139,-11.50278 L -65.2964,-11.50472 L -65.28307,-11.50528 L -65.25835,-11.50167 L -65.24085,-11.505 L -65.23557,-11.50722 L -65.2314,-11.51 L -65.22446,-11.51667 L -65.22139,-11.52083 L -65.16863,-11.61195 L -65.17029,-11.6175 L -65.18834,-11.65639 L -65.20084,-11.68556 L -65.20917,-11.71167 L -65.20252,-11.74 L -65.19334,-11.75195 L -65.18556,-11.75806 L -65.16501,-11.7725 L -65.14862,-11.77722 L -65.14223,-11.76945 L -65.13417,-11.70861 L -65.12946,-11.69945 L -65.12149,-11.69276 L -65.11528,-11.69528 L -65.11168,-11.69889 L -65.06334,-11.7525 L -65.0614,-11.75722 L -65.04334,-11.80972 L -65.03557,-11.88167 L -65.01695,-11.97 L -65.00835,-11.98945 L -64.99167,-12.00806 L -64.97696,-12.01417 L -64.89612,-12.02334 L -64.84251,-12.02278 L -64.82918,-12.02361 L -64.81195,-12.0275 L -64.80724,-12.02972 L -64.79445,-12.03778 L -64.78778,-12.04528 L -64.76334,-12.09778 L -64.73973,-12.14945 L -64.73639,-12.15306 L -64.62251,-12.20889 L -64.61279,-12.21306 L -64.51973,-12.24195 L -64.51334,-12.2425 L -64.49834,-12.36417 L -64.49556,-12.36833 L -64.4214,-12.44111 L -64.40471,-12.45451 L -64.39418,-12.46167 L -64.37306,-12.46833 L -64.2933,-12.48207 L -64.23889,-12.47917 L -64.17639,-12.48556 L -64.04889,-12.51 L -64.0439,-12.51195 L -64.03696,-12.51889 L -64.02834,-12.53111 L -64.02473,-12.53472 L -64.01529,-12.53945 L -63.94029,-12.54972 L -63.93389,-12.55028 L -63.91884,-12.54454 L -63.89861,-12.52861 L -63.87056,-12.49389 L -63.8325,-12.47417 L -63.7975,-12.46 L -63.67195,-12.47056 L -63.47611,-12.56445 L -63.46667,-12.57639 L -63.46429,-12.58739 L -63.46445,-12.60445 L -63.41556,-12.65389 L -63.39462,-12.66836 L -63.33139,-12.70334 L -63.31835,-12.70508 L -63.25279,-12.70722 L -63.24139,-12.70445 L -63.23028,-12.69472 L -63.21695,-12.68 L -63.20862,-12.67445 L -63.16334,-12.64889 L -63.13664,-12.63635 L -63.13005,-12.63541 L -63.07501,-12.65 L -63.06697,-12.65612 L -63.06417,-12.66028 L -63.06226,-12.67307 L -63.06321,-12.6919 L -63.06139,-12.70389 L -63.05167,-12.74306 L -63.04667,-12.75195 L -62.99417,-12.83933 L -62.97376,-12.8529 L -62.89667,-12.90028 L -62.84384,-12.94234 L -62.76973,-13.00584 L -62.69917,-12.9675 L -62.6932,-12.96588 L -62.68723,-12.96667 L -62.67342,-12.97435 L -62.64706,-12.99695 L -62.64417,-13.00083 L -62.64417,-13.0075 L -62.64806,-13.02417 L -62.64706,-13.03084 L -62.64389,-13.03389 L -62.41922,-13.13252 L -62.38473,-13.14583 L -62.33083,-13.14778 L -62.27695,-13.14361 L -62.26011,-13.13817 L -62.24889,-13.12945 L -62.24028,-13.12389 L -62.22278,-13.12 L -62.20473,-13.12195 L -62.12195,-13.14834 L -62.11195,-13.1525 L -62.11041,-13.157 L -62.10973,-13.18333 L -62.08556,-13.27139 L -62.0025,-13.36222 L -61.97295,-13.37543 L -61.94445,-13.39583 L -61.87786,-13.44887 L -61.87445,-13.45222 L -61.87221,-13.45734 L -61.86845,-13.48088 L -61.8514,-13.52722 L -61.84208,-13.53831 L -61.83389,-13.54472 L -61.81007,-13.54867 L -61.73286,-13.53737 L -61.7275,-13.53639 L -61.61639,-13.51306 L -61.59353,-13.50724 L -61.58083,-13.52222 L -61.57417,-13.52972 L -61.52972,-13.54833 L -61.51256,-13.55243 L -61.49278,-13.55334 L -61.26164,-13.52309 L -61.03898,-13.49312 L -61.00417,-13.54083 L -60.95778,-13.58278 L -60.79937,-13.67655 L -60.78384,-13.68236 L -60.77065,-13.6833 L -60.74429,-13.68236 L -60.67556,-13.73861 L -60.58334,-13.76861 L -60.48278,-13.79972 L -60.47084,-13.80722 L -60.3839,-13.98445 L -60.38511,-13.99007 L -60.40056,-14.02972 L -60.41917,-14.05972 L -60.4325,-14.07445 L -60.45862,-14.09083 L -60.46473,-14.09861 L -60.46806,-14.10889 L -60.48084,-14.15139 L -60.48303,-14.16896 L -60.48208,-14.17555 L -60.45242,-14.28586 L -60.44862,-14.29639 L -60.42748,-14.32431 L -60.3465,-14.48342 L -60.28111,-14.62334 L -60.27612,-14.70667 L -60.26445,-14.91361 L -60.26,-15.03667 L -60.2589,-15.09361 L -60.2925,-15.09445 L -60.38473,-15.0925 L -60.5714,-15.0975 L -60.43973,-15.24139 L -60.22723,-15.47861 L -60.18445,-15.97361 L -60.18417,-15.98722 L -60.16028,-16.26306 L -60.10667,-16.26584 L -59.53278,-16.28917 L -58.97278,-16.31084 L -58.54195,-16.32667 L -58.44445,-16.33 L -58.43389,-16.32945 L -58.41945,-16.32278 L -58.41056,-16.31722 L -58.40362,-16.30972 L -58.39778,-16.30139 L -58.39111,-16.28778 L -58.38667,-16.27806 L -58.32751,-16.27917 L -58.32584,-16.30667 L -58.32445,-16.39611 L -58.34639,-16.50611 L -58.35889,-16.5225 L -58.36528,-16.52917 L -58.39778,-16.55306 L -58.41945,-16.57361 L -58.43167,-16.59 L -58.46584,-16.63917 L -58.47,-16.64889 L -58.47577,-16.67463 L -58.4764,-16.72167 L -58.46417,-16.89417 L -58.46278,-16.90722 L -58.46056,-16.91889 L -58.45695,-16.93 L -58.44806,-16.94861 L -58.44222,-16.95695 L -58.43723,-16.96584 L -58.43306,-16.97611 L -58.42445,-17.00972 L -58.40806,-17.10556 L -58.40667,-17.11861 L -58.40667,-17.13834 L -58.40945,-17.19056 L -58.40306,-17.22639 L -58.39751,-17.24917 L -58.39195,-17.25806 L -58.38612,-17.26556 L -58.37112,-17.27889 L -58.35111,-17.28722 L -58.32806,-17.29223 L -58.31583,-17.29361 L -58.29445,-17.29973 L -58.25,-17.32612 L -58.12222,-17.40806 L -58.1189,-17.4175 L -58.10889,-17.43889 L -58.09167,-17.45556 L -58.02278,-17.49556 L -58.01056,-17.49973 L -57.98817,-17.50288 L -57.90167,-17.46195 L -57.88084,-17.47695 L -57.78806,-17.55361 L -57.75622,-17.58027 L -57.74306,-17.59306 L -57.74139,-17.60111 L -57.76251,-17.60861 L -57.76917,-17.61695 L -57.77948,-17.63774 L -57.75917,-17.68695 L -57.73306,-17.71722 L -57.72584,-17.72389 L -57.71729,-17.72758 L -57.72112,-17.775 L -57.7189,-17.845 L -57.58167,-18.09611 L -57.52112,-18.20389 L -57.54889,-18.24028 L -57.55584,-18.25333 L -57.56334,-18.27472 L -57.62695,-18.46806 L -57.76945,-18.90278 L -57.77112,-18.90945 L -57.71973,-18.91389 L -57.71667,-18.93445 L -57.70473,-19.04361 L -57.77667,-19.0475 L -57.78722,-19.06806 L -57.8214,-19.13722 L -57.855,-19.20639 L -57.96056,-19.42111 L -58.08723,-19.67722 L -58.12112,-19.74139 L -58.10334,-19.76028 L -57.85569,-19.97164 L -57.84875,-19.97879 L -57.89306,-20.02389 L -57.89751,-20.02723 L -57.9064,-20.0325 L -58.10973,-20.14917 L -58.15889,-20.16806 L -58.13806,-20.11917 L -58.13639,-20.11361 L -58.13306,-20.08223 L -58.13056,-19.99223 L -58.13195,-19.98 L -58.15139,-19.82806 L -58.23222,-19.7825 L -58.26806,-19.76417 L -58.52056,-19.63862 L -59.09584,-19.34889 L -59.1564,-19.34556 L -59.57362,-19.32167 L -59.97278,-19.29695 L -59.99084,-19.29667 L -60.01594,-19.29943 L -60.02112,-19.30473 L -60.0575,-19.31472 L -60.42445,-19.41084 L -60.5164,-19.43472 L -60.61334,-19.45917 L -60.79639,-19.49028 L -61.35722,-19.58306 L -61.66889,-19.63334 L -61.7425,-19.645 L -61.77445,-19.72472 L -61.8475,-19.91084 L -61.91307,-20.08001 L -62.10195,-20.3375 L -62.19884,-20.47139 L -62.26945,-20.56223 L -62.26778,-20.62195 L -62.26528,-20.74223 L -62.26109,-21.00052 L -62.2589,-21.05695 L -62.47056,-21.71417 L -62.48612,-21.765 L -62.60111,-22.12056 L -62.63417,-22.22195 L -62.64377,-22.2389 L -62.65501,-22.23778 L -62.65945,-22.23473 L -62.76501,-22.15472 L -62.78945,-22.12278 L -62.79528,-22.10806 L -62.79556,-22.10195 L -62.79056,-22.08556 L -62.79278,-22.05889 L -62.79917,-22.02222 L -62.80029,-22.01667 L -62.80417,-22.00695 L -62.80834,-21.99907 L -62.81195,-21.99695 L -62.83028,-21.99667 L -62.88612,-21.99778 L -63.13028,-22.00056 L -63.59334,-22.00333 L -63.73306,-22.00278 L -63.94112,-22.00084 L -63.99306,-22.09445 L -64.05862,-22.24973 L -64.12668,-22.41028 L -64.16945,-22.46639 L -64.17584,-22.47445 L -64.19446,-22.49111 L -64.20252,-22.49778 L -64.22029,-22.50861 L -64.22585,-22.51722 L -64.24417,-22.54973 L -64.25334,-22.56778 L -64.27779,-22.63862 L -64.2814,-22.64945 L -64.2825,-22.65556 L -64.28612,-22.7275 L -64.28389,-22.75445 L -64.30139,-22.8325 L -64.31639,-22.86056 L -64.32472,-22.87361 L -64.33862,-22.87167 L -64.3439,-22.86945 L -64.34584,-22.86445 L -64.34807,-22.84306 L -64.34778,-22.81417 L -64.35251,-22.76722 L -64.36,-22.74084 L -64.3625,-22.73667 L -64.4164,-22.68361 L -64.45252,-22.64834 L -64.45445,-22.64333 L -64.45668,-22.63223 L -64.45584,-22.61861 L -64.45473,-22.6125 L -64.44389,-22.58 L -64.46195,-22.51445 L -64.52612,-22.40889 L -64.54363,-22.29889 L -64.53946,-22.28861 L -64.53835,-22.2825 L -64.5389,-22.27639 L -64.54251,-22.26667 L -64.55139,-22.25445 L -64.59056,-22.21473 L -64.59473,-22.21167 L -64.67168,-22.16972 L -64.68611,-22.17722 L -64.69667,-22.18084 L -64.70862,-22.18278 L -64.72278,-22.18139 L -64.96445,-22.11 L -64.97446,-22.10528 L -64.98834,-22.09084 L -65.1902,-22.09473 z\" /></g></svg>"
      ],
      "text/plain": [
       "<POLYGON ((-65.19 -22.095, -65.599 -22.1, -65.658 -22.109, -65.734 -22.113, ...>"
      ]
     },
     "execution_count": 59,
     "metadata": {},
     "output_type": "execute_result"
    }
   ],
   "source": [
    "bolivia_polygon"
   ]
  },
  {
   "cell_type": "code",
   "execution_count": 11,
   "id": "ec2ab0ae-c06f-4e1f-84ce-c4f83f700ed6",
   "metadata": {},
   "outputs": [],
   "source": [
    "# Convertimos los strings de la columna tile a tipo Polygon\n",
    "df['tile'] = [shapely.wkt.loads(polygon) for polygon in df['tile']]"
   ]
  },
  {
   "cell_type": "code",
   "execution_count": 60,
   "id": "748ff6e1-9b18-4fd0-a289-63ca6c7606c0",
   "metadata": {},
   "outputs": [],
   "source": [
    "# Función para extraer una lista de puntos de un polígono\n",
    "def extract_points(polygon):\n",
    "    cx = polygon.exterior.coords.xy[0]\n",
    "    cy = polygon.exterior.coords.xy[1]\n",
    "    return [Point(x, y) for x,y in zip(cx, cy)]"
   ]
  },
  {
   "cell_type": "code",
   "execution_count": 50,
   "id": "84ac004c-130b-4ed0-96f7-a12c9040d02a",
   "metadata": {},
   "outputs": [],
   "source": [
    "# Verificamos si un punto del polígono cae dentro de nuestro polígono de Bolivia\n",
    "# record_index = []\n",
    "# for i, polygon in enumerate(df['tile']):\n",
    "#     points = extract_points(polygon)\n",
    "#     for p in points:\n",
    "#         if bolivia_polygon.contains(p):\n",
    "#             record_index.append(i)\n",
    "#             break"
   ]
  },
  {
   "cell_type": "code",
   "execution_count": 54,
   "id": "10006552-ba18-45bf-8c78-33871bbbc17c",
   "metadata": {},
   "outputs": [],
   "source": [
    "# Recuperamos todos los índices de los records que pertenecen a Bolivia\n",
    "bolivian_records = [i for i, polygon in enumerate(df['tile']) if polygon.within(bolivia_polygon)]"
   ]
  },
  {
   "cell_type": "code",
   "execution_count": 61,
   "id": "95bac456-84a2-430c-8727-4cdb827864c7",
   "metadata": {},
   "outputs": [
    {
     "name": "stdout",
     "output_type": "stream",
     "text": [
      "Se lograron identificar 2667 records que pertenecen a Bolivia\n"
     ]
    }
   ],
   "source": [
    "print(f'Se lograron identificar {len(bolivian_records)} records que pertenecen a Bolivia')"
   ]
  },
  {
   "cell_type": "code",
   "execution_count": 65,
   "id": "3b79e012-1a63-48d3-91dd-b608c1ccf9c9",
   "metadata": {},
   "outputs": [],
   "source": [
    "bolivian_df = df.iloc[bolivian_records]"
   ]
  },
  {
   "cell_type": "code",
   "execution_count": 66,
   "id": "84a9d5f4-1006-4e21-8b51-178a78f20b05",
   "metadata": {},
   "outputs": [
    {
     "data": {
      "text/html": [
       "<div>\n",
       "<style scoped>\n",
       "    .dataframe tbody tr th:only-of-type {\n",
       "        vertical-align: middle;\n",
       "    }\n",
       "\n",
       "    .dataframe tbody tr th {\n",
       "        vertical-align: top;\n",
       "    }\n",
       "\n",
       "    .dataframe thead th {\n",
       "        text-align: right;\n",
       "    }\n",
       "</style>\n",
       "<table border=\"1\" class=\"dataframe\">\n",
       "  <thead>\n",
       "    <tr style=\"text-align: right;\">\n",
       "      <th></th>\n",
       "      <th>quadkey</th>\n",
       "      <th>tile</th>\n",
       "      <th>avg_d_kbps</th>\n",
       "      <th>avg_u_kbps</th>\n",
       "      <th>avg_lat_ms</th>\n",
       "      <th>tests</th>\n",
       "      <th>devices</th>\n",
       "    </tr>\n",
       "  </thead>\n",
       "  <tbody>\n",
       "    <tr>\n",
       "      <th>4481982</th>\n",
       "      <td>2100133333331200</td>\n",
       "      <td>POLYGON ((-67.5439453125 -11.1137272821727, -6...</td>\n",
       "      <td>671</td>\n",
       "      <td>9679</td>\n",
       "      <td>71</td>\n",
       "      <td>1</td>\n",
       "      <td>1</td>\n",
       "    </tr>\n",
       "    <tr>\n",
       "      <th>4485379</th>\n",
       "      <td>2100313113311001</td>\n",
       "      <td>POLYGON ((-67.5384521484375 -14.4346802152973,...</td>\n",
       "      <td>14919</td>\n",
       "      <td>11459</td>\n",
       "      <td>46</td>\n",
       "      <td>78</td>\n",
       "      <td>2</td>\n",
       "    </tr>\n",
       "    <tr>\n",
       "      <th>4485380</th>\n",
       "      <td>2100313113311012</td>\n",
       "      <td>POLYGON ((-67.532958984375 -14.4399999100842, ...</td>\n",
       "      <td>19376</td>\n",
       "      <td>9636</td>\n",
       "      <td>24</td>\n",
       "      <td>8</td>\n",
       "      <td>1</td>\n",
       "    </tr>\n",
       "    <tr>\n",
       "      <th>4485485</th>\n",
       "      <td>2100313210303133</td>\n",
       "      <td>POLYGON ((-69.3511962890625 -15.5119122493399,...</td>\n",
       "      <td>12487</td>\n",
       "      <td>315</td>\n",
       "      <td>45</td>\n",
       "      <td>2</td>\n",
       "      <td>1</td>\n",
       "    </tr>\n",
       "    <tr>\n",
       "      <th>4485486</th>\n",
       "      <td>2100313213010333</td>\n",
       "      <td>POLYGON ((-69.1314697265625 -15.6600649920673,...</td>\n",
       "      <td>2531</td>\n",
       "      <td>1663</td>\n",
       "      <td>50</td>\n",
       "      <td>1</td>\n",
       "      <td>1</td>\n",
       "    </tr>\n",
       "  </tbody>\n",
       "</table>\n",
       "</div>"
      ],
      "text/plain": [
       "                  quadkey                                               tile  \\\n",
       "4481982  2100133333331200  POLYGON ((-67.5439453125 -11.1137272821727, -6...   \n",
       "4485379  2100313113311001  POLYGON ((-67.5384521484375 -14.4346802152973,...   \n",
       "4485380  2100313113311012  POLYGON ((-67.532958984375 -14.4399999100842, ...   \n",
       "4485485  2100313210303133  POLYGON ((-69.3511962890625 -15.5119122493399,...   \n",
       "4485486  2100313213010333  POLYGON ((-69.1314697265625 -15.6600649920673,...   \n",
       "\n",
       "         avg_d_kbps  avg_u_kbps  avg_lat_ms  tests  devices  \n",
       "4481982         671        9679          71      1        1  \n",
       "4485379       14919       11459          46     78        2  \n",
       "4485380       19376        9636          24      8        1  \n",
       "4485485       12487         315          45      2        1  \n",
       "4485486        2531        1663          50      1        1  "
      ]
     },
     "execution_count": 66,
     "metadata": {},
     "output_type": "execute_result"
    }
   ],
   "source": [
    "bolivian_df.head()"
   ]
  },
  {
   "cell_type": "code",
   "execution_count": 71,
   "id": "c7522321-07a2-4d0c-b602-f272b1ee2bcf",
   "metadata": {},
   "outputs": [
    {
     "data": {
      "text/html": [
       "<div>\n",
       "<style scoped>\n",
       "    .dataframe tbody tr th:only-of-type {\n",
       "        vertical-align: middle;\n",
       "    }\n",
       "\n",
       "    .dataframe tbody tr th {\n",
       "        vertical-align: top;\n",
       "    }\n",
       "\n",
       "    .dataframe thead th {\n",
       "        text-align: right;\n",
       "    }\n",
       "</style>\n",
       "<table border=\"1\" class=\"dataframe\">\n",
       "  <thead>\n",
       "    <tr style=\"text-align: right;\">\n",
       "      <th></th>\n",
       "      <th>quadkey</th>\n",
       "      <th>geometry</th>\n",
       "      <th>avg_d_kbps</th>\n",
       "      <th>avg_u_kbps</th>\n",
       "      <th>avg_lat_ms</th>\n",
       "      <th>tests</th>\n",
       "      <th>devices</th>\n",
       "    </tr>\n",
       "  </thead>\n",
       "  <tbody>\n",
       "    <tr>\n",
       "      <th>4481982</th>\n",
       "      <td>2100133333331200</td>\n",
       "      <td>POLYGON ((-67.5439453125 -11.1137272821727, -6...</td>\n",
       "      <td>671</td>\n",
       "      <td>9679</td>\n",
       "      <td>71</td>\n",
       "      <td>1</td>\n",
       "      <td>1</td>\n",
       "    </tr>\n",
       "    <tr>\n",
       "      <th>4485379</th>\n",
       "      <td>2100313113311001</td>\n",
       "      <td>POLYGON ((-67.5384521484375 -14.4346802152973,...</td>\n",
       "      <td>14919</td>\n",
       "      <td>11459</td>\n",
       "      <td>46</td>\n",
       "      <td>78</td>\n",
       "      <td>2</td>\n",
       "    </tr>\n",
       "    <tr>\n",
       "      <th>4485380</th>\n",
       "      <td>2100313113311012</td>\n",
       "      <td>POLYGON ((-67.532958984375 -14.4399999100842, ...</td>\n",
       "      <td>19376</td>\n",
       "      <td>9636</td>\n",
       "      <td>24</td>\n",
       "      <td>8</td>\n",
       "      <td>1</td>\n",
       "    </tr>\n",
       "    <tr>\n",
       "      <th>4485485</th>\n",
       "      <td>2100313210303133</td>\n",
       "      <td>POLYGON ((-69.3511962890625 -15.5119122493399,...</td>\n",
       "      <td>12487</td>\n",
       "      <td>315</td>\n",
       "      <td>45</td>\n",
       "      <td>2</td>\n",
       "      <td>1</td>\n",
       "    </tr>\n",
       "    <tr>\n",
       "      <th>4485486</th>\n",
       "      <td>2100313213010333</td>\n",
       "      <td>POLYGON ((-69.1314697265625 -15.6600649920673,...</td>\n",
       "      <td>2531</td>\n",
       "      <td>1663</td>\n",
       "      <td>50</td>\n",
       "      <td>1</td>\n",
       "      <td>1</td>\n",
       "    </tr>\n",
       "    <tr>\n",
       "      <th>...</th>\n",
       "      <td>...</td>\n",
       "      <td>...</td>\n",
       "      <td>...</td>\n",
       "      <td>...</td>\n",
       "      <td>...</td>\n",
       "      <td>...</td>\n",
       "      <td>...</td>\n",
       "    </tr>\n",
       "    <tr>\n",
       "      <th>4543775</th>\n",
       "      <td>2103001010111113</td>\n",
       "      <td>POLYGON ((-63.6383056640625 -21.9481406581903,...</td>\n",
       "      <td>16397</td>\n",
       "      <td>52176</td>\n",
       "      <td>25</td>\n",
       "      <td>1</td>\n",
       "      <td>1</td>\n",
       "    </tr>\n",
       "    <tr>\n",
       "      <th>4543799</th>\n",
       "      <td>2103001020133123</td>\n",
       "      <td>POLYGON ((-64.3524169921875 -22.7305904254938,...</td>\n",
       "      <td>204</td>\n",
       "      <td>79</td>\n",
       "      <td>140</td>\n",
       "      <td>1</td>\n",
       "      <td>1</td>\n",
       "    </tr>\n",
       "    <tr>\n",
       "      <th>4543800</th>\n",
       "      <td>2103001020133130</td>\n",
       "      <td>POLYGON ((-64.346923828125 -22.7255238110894, ...</td>\n",
       "      <td>9669</td>\n",
       "      <td>5787</td>\n",
       "      <td>73</td>\n",
       "      <td>2</td>\n",
       "      <td>2</td>\n",
       "    </tr>\n",
       "    <tr>\n",
       "      <th>4543801</th>\n",
       "      <td>2103001020133132</td>\n",
       "      <td>POLYGON ((-64.346923828125 -22.7305904254938, ...</td>\n",
       "      <td>11340</td>\n",
       "      <td>6401</td>\n",
       "      <td>67</td>\n",
       "      <td>12</td>\n",
       "      <td>4</td>\n",
       "    </tr>\n",
       "    <tr>\n",
       "      <th>4543802</th>\n",
       "      <td>2103001020133310</td>\n",
       "      <td>POLYGON ((-64.346923828125 -22.7356568522065, ...</td>\n",
       "      <td>2624</td>\n",
       "      <td>859</td>\n",
       "      <td>94</td>\n",
       "      <td>1</td>\n",
       "      <td>1</td>\n",
       "    </tr>\n",
       "  </tbody>\n",
       "</table>\n",
       "<p>2667 rows × 7 columns</p>\n",
       "</div>"
      ],
      "text/plain": [
       "                  quadkey                                           geometry  \\\n",
       "4481982  2100133333331200  POLYGON ((-67.5439453125 -11.1137272821727, -6...   \n",
       "4485379  2100313113311001  POLYGON ((-67.5384521484375 -14.4346802152973,...   \n",
       "4485380  2100313113311012  POLYGON ((-67.532958984375 -14.4399999100842, ...   \n",
       "4485485  2100313210303133  POLYGON ((-69.3511962890625 -15.5119122493399,...   \n",
       "4485486  2100313213010333  POLYGON ((-69.1314697265625 -15.6600649920673,...   \n",
       "...                   ...                                                ...   \n",
       "4543775  2103001010111113  POLYGON ((-63.6383056640625 -21.9481406581903,...   \n",
       "4543799  2103001020133123  POLYGON ((-64.3524169921875 -22.7305904254938,...   \n",
       "4543800  2103001020133130  POLYGON ((-64.346923828125 -22.7255238110894, ...   \n",
       "4543801  2103001020133132  POLYGON ((-64.346923828125 -22.7305904254938, ...   \n",
       "4543802  2103001020133310  POLYGON ((-64.346923828125 -22.7356568522065, ...   \n",
       "\n",
       "         avg_d_kbps  avg_u_kbps  avg_lat_ms  tests  devices  \n",
       "4481982         671        9679          71      1        1  \n",
       "4485379       14919       11459          46     78        2  \n",
       "4485380       19376        9636          24      8        1  \n",
       "4485485       12487         315          45      2        1  \n",
       "4485486        2531        1663          50      1        1  \n",
       "...             ...         ...         ...    ...      ...  \n",
       "4543775       16397       52176          25      1        1  \n",
       "4543799         204          79         140      1        1  \n",
       "4543800        9669        5787          73      2        2  \n",
       "4543801       11340        6401          67     12        4  \n",
       "4543802        2624         859          94      1        1  \n",
       "\n",
       "[2667 rows x 7 columns]"
      ]
     },
     "execution_count": 71,
     "metadata": {},
     "output_type": "execute_result"
    }
   ],
   "source": [
    "bolivian_df.rename(columns={\"tile\": \"geometry\"})"
   ]
  },
  {
   "cell_type": "code",
   "execution_count": 73,
   "id": "86c92613-f0ad-4e4a-8079-08f05772d7e1",
   "metadata": {},
   "outputs": [],
   "source": [
    "# Convertimos el dataframe a un geopandas geodataframe\n",
    "gdf = gpd.GeoDataFrame(bolivian_df, geometry='geometry')\n",
    "\n",
    "# Guardamos el geodataframe como tipo shapefile\n",
    "gdf.to_file(\"bolivia_shape/bolivia_inter.shp\", driver=\"ESRI Shapefile\")"
   ]
  },
  {
   "cell_type": "code",
   "execution_count": 67,
   "id": "5f9b18eb-bfd7-4545-ae9a-7ba71a464bf3",
   "metadata": {},
   "outputs": [],
   "source": [
    "# Exportamos el nuevo dataset únicamente con los datos de Bolivia\n",
    "# bolivian_df.to_csv(\"bolivia_internet.csv\")"
   ]
  }
 ],
 "metadata": {
  "kernelspec": {
   "display_name": "Python 3 (ipykernel)",
   "language": "python",
   "name": "python3"
  },
  "language_info": {
   "codemirror_mode": {
    "name": "ipython",
    "version": 3
   },
   "file_extension": ".py",
   "mimetype": "text/x-python",
   "name": "python",
   "nbconvert_exporter": "python",
   "pygments_lexer": "ipython3",
   "version": "3.10.9"
  }
 },
 "nbformat": 4,
 "nbformat_minor": 5
}
