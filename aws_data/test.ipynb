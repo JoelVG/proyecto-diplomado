{
 "cells": [
  {
   "cell_type": "code",
   "execution_count": 73,
   "id": "76b84094-0169-4205-8e11-f9f227588a1c",
   "metadata": {},
   "outputs": [],
   "source": [
    "import pandas as pd\n",
    "from shapely.geometry import Polygon\n",
    "import matplotlib.pyplot as plt\n",
    "import shapely.wkt"
   ]
  },
  {
   "cell_type": "code",
   "execution_count": 2,
   "id": "8e58df2a-b206-42e0-9cfc-0ddb0bf4da46",
   "metadata": {},
   "outputs": [],
   "source": [
    "df = pd.read_parquet('performance/type=fixed/year=2019/quarter=1/2019-01-01_performance_fixed_tiles.parquet', engine='pyarrow')"
   ]
  },
  {
   "cell_type": "code",
   "execution_count": 3,
   "id": "63557458-51c3-4d43-b4cc-5150ab5a23c1",
   "metadata": {},
   "outputs": [
    {
     "data": {
      "text/html": [
       "<div>\n",
       "<style scoped>\n",
       "    .dataframe tbody tr th:only-of-type {\n",
       "        vertical-align: middle;\n",
       "    }\n",
       "\n",
       "    .dataframe tbody tr th {\n",
       "        vertical-align: top;\n",
       "    }\n",
       "\n",
       "    .dataframe thead th {\n",
       "        text-align: right;\n",
       "    }\n",
       "</style>\n",
       "<table border=\"1\" class=\"dataframe\">\n",
       "  <thead>\n",
       "    <tr style=\"text-align: right;\">\n",
       "      <th></th>\n",
       "      <th>quadkey</th>\n",
       "      <th>tile</th>\n",
       "      <th>avg_d_kbps</th>\n",
       "      <th>avg_u_kbps</th>\n",
       "      <th>avg_lat_ms</th>\n",
       "      <th>tests</th>\n",
       "      <th>devices</th>\n",
       "    </tr>\n",
       "  </thead>\n",
       "  <tbody>\n",
       "    <tr>\n",
       "      <th>0</th>\n",
       "      <td>0022133222312322</td>\n",
       "      <td>POLYGON((-160.02685546875 70.6435894914449, -1...</td>\n",
       "      <td>8763</td>\n",
       "      <td>3646</td>\n",
       "      <td>45</td>\n",
       "      <td>1</td>\n",
       "      <td>1</td>\n",
       "    </tr>\n",
       "    <tr>\n",
       "      <th>1</th>\n",
       "      <td>0022133222330013</td>\n",
       "      <td>POLYGON((-160.032348632812 70.6399478155463, -...</td>\n",
       "      <td>9195</td>\n",
       "      <td>3347</td>\n",
       "      <td>43</td>\n",
       "      <td>1</td>\n",
       "      <td>1</td>\n",
       "    </tr>\n",
       "    <tr>\n",
       "      <th>2</th>\n",
       "      <td>0022133222330023</td>\n",
       "      <td>POLYGON((-160.043334960938 70.6363054807905, -...</td>\n",
       "      <td>6833</td>\n",
       "      <td>3788</td>\n",
       "      <td>42</td>\n",
       "      <td>1</td>\n",
       "      <td>1</td>\n",
       "    </tr>\n",
       "    <tr>\n",
       "      <th>3</th>\n",
       "      <td>0022133222330100</td>\n",
       "      <td>POLYGON((-160.02685546875 70.6417687358462, -1...</td>\n",
       "      <td>8895</td>\n",
       "      <td>3429</td>\n",
       "      <td>43</td>\n",
       "      <td>2</td>\n",
       "      <td>2</td>\n",
       "    </tr>\n",
       "    <tr>\n",
       "      <th>4</th>\n",
       "      <td>0022320121121332</td>\n",
       "      <td>POLYGON((-166.739501953125 68.3526207780586, -...</td>\n",
       "      <td>4877</td>\n",
       "      <td>935</td>\n",
       "      <td>45</td>\n",
       "      <td>3</td>\n",
       "      <td>2</td>\n",
       "    </tr>\n",
       "  </tbody>\n",
       "</table>\n",
       "</div>"
      ],
      "text/plain": [
       "            quadkey                                               tile  \\\n",
       "0  0022133222312322  POLYGON((-160.02685546875 70.6435894914449, -1...   \n",
       "1  0022133222330013  POLYGON((-160.032348632812 70.6399478155463, -...   \n",
       "2  0022133222330023  POLYGON((-160.043334960938 70.6363054807905, -...   \n",
       "3  0022133222330100  POLYGON((-160.02685546875 70.6417687358462, -1...   \n",
       "4  0022320121121332  POLYGON((-166.739501953125 68.3526207780586, -...   \n",
       "\n",
       "   avg_d_kbps  avg_u_kbps  avg_lat_ms  tests  devices  \n",
       "0        8763        3646          45      1        1  \n",
       "1        9195        3347          43      1        1  \n",
       "2        6833        3788          42      1        1  \n",
       "3        8895        3429          43      2        2  \n",
       "4        4877         935          45      3        2  "
      ]
     },
     "execution_count": 3,
     "metadata": {},
     "output_type": "execute_result"
    }
   ],
   "source": [
    "df.head()"
   ]
  },
  {
   "cell_type": "code",
   "execution_count": 87,
   "id": "bc94a916-762c-4451-b5dd-7c7c0a9f8f45",
   "metadata": {},
   "outputs": [
    {
     "data": {
      "text/plain": [
       "'POLYGON((-160.02685546875 70.6435894914449, -160.021362304688 70.6435894914449, -160.021362304688 70.6417687358462, -160.02685546875 70.6417687358462, -160.02685546875 70.6435894914449))'"
      ]
     },
     "execution_count": 87,
     "metadata": {},
     "output_type": "execute_result"
    }
   ],
   "source": [
    "p1 = df['tile'][0]\n",
    "p1"
   ]
  },
  {
   "cell_type": "markdown",
   "id": "2b49e34d-9629-48d0-8454-8f15f97102f3",
   "metadata": {},
   "source": [
    "## Leemos las coordenadas del polígono que forma Bolivia (http://boundaries.us/country/bo/)\n",
    "Nota: La latitud (expresada como Y) proporciona la localización de un lugar en dirección Norte o Sur desde el ecuador mientras que la longitud (expresada com X) proporciona la localización de un lugar en dirección Este u Oeste desde el meridiano de Greenwich."
   ]
  },
  {
   "cell_type": "code",
   "execution_count": 11,
   "id": "250d6236-32fd-4793-a90c-797bddb7b665",
   "metadata": {},
   "outputs": [],
   "source": [
    "df_bol = pd.read_csv('../bo.csv')"
   ]
  },
  {
   "cell_type": "code",
   "execution_count": 12,
   "id": "205f9899-94eb-4d15-8b28-c943ab6d48af",
   "metadata": {},
   "outputs": [
    {
     "data": {
      "text/html": [
       "<div>\n",
       "<style scoped>\n",
       "    .dataframe tbody tr th:only-of-type {\n",
       "        vertical-align: middle;\n",
       "    }\n",
       "\n",
       "    .dataframe tbody tr th {\n",
       "        vertical-align: top;\n",
       "    }\n",
       "\n",
       "    .dataframe thead th {\n",
       "        text-align: right;\n",
       "    }\n",
       "</style>\n",
       "<table border=\"1\" class=\"dataframe\">\n",
       "  <thead>\n",
       "    <tr style=\"text-align: right;\">\n",
       "      <th></th>\n",
       "      <th>lat</th>\n",
       "      <th>long</th>\n",
       "    </tr>\n",
       "  </thead>\n",
       "  <tbody>\n",
       "    <tr>\n",
       "      <th>0</th>\n",
       "      <td>-22.09473</td>\n",
       "      <td>-65.19020</td>\n",
       "    </tr>\n",
       "    <tr>\n",
       "      <th>1</th>\n",
       "      <td>-22.10000</td>\n",
       "      <td>-65.59889</td>\n",
       "    </tr>\n",
       "    <tr>\n",
       "      <th>2</th>\n",
       "      <td>-22.10889</td>\n",
       "      <td>-65.65750</td>\n",
       "    </tr>\n",
       "    <tr>\n",
       "      <th>3</th>\n",
       "      <td>-22.11334</td>\n",
       "      <td>-65.73418</td>\n",
       "    </tr>\n",
       "    <tr>\n",
       "      <th>4</th>\n",
       "      <td>-22.11167</td>\n",
       "      <td>-65.74806</td>\n",
       "    </tr>\n",
       "  </tbody>\n",
       "</table>\n",
       "</div>"
      ],
      "text/plain": [
       "        lat      long\n",
       "0 -22.09473 -65.19020\n",
       "1 -22.10000 -65.59889\n",
       "2 -22.10889 -65.65750\n",
       "3 -22.11334 -65.73418\n",
       "4 -22.11167 -65.74806"
      ]
     },
     "execution_count": 12,
     "metadata": {},
     "output_type": "execute_result"
    }
   ],
   "source": [
    "df_bol.head()"
   ]
  },
  {
   "cell_type": "code",
   "execution_count": 61,
   "id": "b97c7290-6f66-474c-8354-c12a20642ca4",
   "metadata": {},
   "outputs": [],
   "source": [
    "# Generamos un Polígono con las coordenadas que mapean a Bolivia\n",
    "bolivia_coor = [(long, lat) for lat, long in zip(df_bol['lat'], df_bol['long'])]"
   ]
  },
  {
   "cell_type": "code",
   "execution_count": 60,
   "id": "469878df-cfa8-4f73-b978-8e01cc109dc3",
   "metadata": {},
   "outputs": [
    {
     "data": {
      "image/png": "[encoded data removed]",
      "text/plain": [
       "<Figure size 640x480 with 1 Axes>"
      ]
     },
     "metadata": {},
     "output_type": "display_data"
    }
   ],
   "source": [
    "polygon = plt.Polygon(bolivia_coor, closed=True, fill=None)\n",
    "\n",
    "# Creamos el plot y agregamos el polígono\n",
    "_, ax = plt.subplots()\n",
    "ax.add_patch(polygon)\n",
    "\n",
    "# Configuramos los límites del gráfico\n",
    "ax.set_xlim(-72.5, -56)\n",
    "ax.set_ylim(-25, -7.5)\n",
    "\n",
    "plt.show()"
   ]
  },
  {
   "cell_type": "markdown",
   "id": "638b5b39-9317-466b-9efa-e21cffae4a95",
   "metadata": {},
   "source": [
    "## Procedemos a filtrar las coordenadas del dataset origen con aquellos polígonos en donde su área caiga dentro de nuestro polígono de Bolivia"
   ]
  },
  {
   "cell_type": "code",
   "execution_count": 85,
   "id": "38143d45-f3b7-4d18-9c15-c3b58249a33f",
   "metadata": {},
   "outputs": [
    {
     "data": {
      "text/plain": [
       "[(-65.1902, -22.09473),\n",
       " (-65.59889, -22.1),\n",
       " (-65.6575, -22.10889),\n",
       " (-65.73418, -22.11334),\n",
       " (-65.74806, -22.11167)]"
      ]
     },
     "execution_count": 85,
     "metadata": {},
     "output_type": "execute_result"
    }
   ],
   "source": [
    "bolivia_coor[:5]"
   ]
  },
  {
   "cell_type": "code",
   "execution_count": 92,
   "id": "72462845-a5ed-42a9-a045-8127dba7b35c",
   "metadata": {},
   "outputs": [],
   "source": [
    "# Corregimos las coordenadas para que tenga el formato de (latitud, long)\n",
    "bolivia_polygon = Polygon([coor[::-1] for coor in bolivia_coor])"
   ]
  },
  {
   "cell_type": "code",
   "execution_count": 93,
   "id": "e33b4a68-61c7-485c-8da4-06dba2de0ab2",
   "metadata": {},
   "outputs": [
    {
     "data": {
      "image/svg+xml": [
       "<svg xmlns=\"http://www.w3.org/2000/svg\" xmlns:xlink=\"http://www.w3.org/1999/xlink\" width=\"100.0\" height=\"100.0\" viewBox=\"-23.4299864 -70.1850664 14.2796628 13.192822799999995\" preserveAspectRatio=\"xMinYMin meet\"><g transform=\"matrix(1,0,0,-1,0,-127.17731)\"><path fill-rule=\"evenodd\" fill=\"#66cc99\" stroke=\"#555555\" stroke-width=\"0.285593256\" opacity=\"0.6\" d=\"M -22.09473,-65.1902 L -22.1,-65.59889 L -22.10889,-65.6575 L -22.11334,-65.73418 L -22.11167,-65.74806 L -22.11,-65.75389 L -22.10528,-65.7639 L -22.07139,-65.81279 L -22.00556,-65.86751 L -21.93333,-65.92612 L -21.83195,-66.07752 L -21.78833,-66.19473 L -21.78052,-66.22301 L -21.79031,-66.23444 L -21.80361,-66.23807 L -21.90223,-66.26306 L -21.97806,-66.28195 L -22.03195,-66.29112 L -22.03861,-66.2914 L -22.07695,-66.30695 L -22.11663,-66.34538 L -22.13417,-66.40224 L -22.16111,-66.49556 L -22.17834,-66.55972 L -22.19195,-66.61639 L -22.19611,-66.6889 L -22.2275,-66.73668 L -22.375,-66.77139 L -22.42695,-66.77473 L -22.45306,-66.85028 L -22.47806,-66.92639 L -22.52389,-67.02251 L -22.57389,-67.01807 L -22.62556,-67.01306 L -22.64278,-67.01222 L -22.71806,-67.12306 L -22.72111,-67.12584 L -22.82167,-67.18362 L -22.85278,-67.33501 L -22.90111,-67.57918 L -22.87806,-67.79334 L -22.82806,-67.8764 L -22.71278,-67.88417 L -22.56056,-67.8514 L -22.54917,-67.84807 L -22.43278,-67.88667 L -22.42,-67.89446 L -22.30028,-67.93279 L -22.28028,-67.92389 L -22.2675,-67.92195 L -22.24195,-67.92223 L -22.10722,-67.94362 L -22.10222,-67.94528 L -22.06028,-67.97278 L -22.04695,-67.99695 L -21.96695,-68.08446 L -21.95639,-68.08585 L -21.91306,-68.08751 L -21.88028,-68.08612 L -21.84278,-68.08751 L -21.82,-68.09056 L -21.75306,-68.10278 L -21.7375,-68.10751 L -21.69806,-68.12195 L -21.67528,-68.13335 L -21.65861,-68.14418 L -21.62778,-68.17001 L -21.61306,-68.18362 L -21.60639,-68.18861 L -21.29695,-68.18861 L -21.2332,-68.22981 L -20.93917,-68.42111 L -20.93861,-68.42696 L -20.93945,-68.45361 L -20.94167,-68.4789 L -20.93945,-68.5 L -20.93584,-68.5114 L -20.92917,-68.52724 L -20.92362,-68.53639 L -20.91667,-68.54363 L -20.90945,-68.55057 L -20.89639,-68.55806 L -20.89445,-68.55769 L -20.89139,-68.56001 L -20.87028,-68.56557 L -20.74223,-68.56751 L -20.73,-68.56529 L -20.72084,-68.55972 L -20.69111,-68.5325 L -20.68417,-68.52528 L -20.67167,-68.50917 L -20.65472,-68.47696 L -20.64861,-68.4689 L -20.64473,-68.46584 L -20.63917,-68.4639 L -20.63306,-68.46417 L -20.62889,-68.46668 L -20.62139,-68.47334 L -20.60473,-68.49251 L -20.5675,-68.54945 L -20.55889,-68.57085 L -20.55,-68.59973 L -20.54195,-68.62167 L -20.53528,-68.63722 L -20.52306,-68.66196 L -20.50972,-68.68472 L -20.50028,-68.69724 L -20.47084,-68.72473 L -20.45028,-68.73918 L -20.43306,-68.74945 L -20.42306,-68.75307 L -20.40695,-68.75696 L -20.38973,-68.7589 L -20.37611,-68.75751 L -20.36611,-68.75307 L -20.36223,-68.74973 L -20.35584,-68.74196 L -20.34861,-68.72806 L -20.33806,-68.70361 L -20.23778,-68.72112 L -20.13973,-68.76056 L -20.13472,-68.77028 L -20.13167,-68.77445 L -20.12445,-68.78111 L -20.12,-68.78362 L -20.11,-68.78723 L -20.10334,-68.78667 L -20.09778,-68.78473 L -20.09333,-68.78195 L -20.08556,-68.77528 L -20.08,-68.76695 L -20.05667,-68.65056 L -20.05084,-68.61862 L -20.05056,-68.61195 L -20.05473,-68.59334 L -20.05667,-68.58778 L -20.05778,-68.58112 L -20.0575,-68.57445 L -20.04223,-68.56778 L -19.91639,-68.52335 L -19.83389,-68.56696 L -19.78584,-68.62611 L -19.74778,-68.68224 L -19.74361,-68.69278 L -19.74056,-68.69695 L -19.73612,-68.69945 L -19.73,-68.69972 L -19.70723,-68.68973 L -19.69889,-68.68362 L -19.60778,-68.60196 L -19.56654,-68.57256 L -19.53972,-68.55139 L -19.44389,-68.45195 L -19.44056,-68.44112 L -19.43723,-68.4375 L -19.43028,-68.4375 L -19.42028,-68.44084 L -19.4125,-68.44751 L -19.36389,-68.49695 L -19.32195,-68.54695 L -19.31667,-68.55556 L -19.30473,-68.58 L -19.30278,-68.58528 L -19.29723,-68.60834 L -19.28695,-68.63362 L -19.27723,-68.65085 L -19.27389,-68.65445 L -19.26083,-68.66223 L -19.17778,-68.74085 L -19.14195,-68.7825 L -19.07028,-68.89473 L -19.06334,-68.90224 L -19.05528,-68.90779 L -18.95306,-68.96584 L -18.88278,-68.93279 L -18.84584,-68.9514 L -18.74306,-69.00057 L -18.65861,-69.02445 L -18.61139,-69.02918 L -18.56,-69.0325 L -18.5075,-69.02556 L -18.48972,-69.02278 L -18.47722,-69.02417 L -18.46639,-69.02695 L -18.45195,-69.03334 L -18.44306,-69.03835 L -18.43889,-69.04112 L -18.41889,-69.05612 L -18.41556,-69.05972 L -18.40389,-69.06917 L -18.395,-69.0739 L -18.38945,-69.07556 L -18.28584,-69.08556 L -18.23945,-69.08667 L -18.23333,-69.08751 L -18.22361,-69.09168 L -18.21611,-69.09807 L -18.20223,-69.11223 L -18.19945,-69.11667 L -18.18584,-69.13112 L -18.17334,-69.13973 L -18.16028,-69.14751 L -18.15556,-69.14973 L -18.14917,-69.15028 L -18.13778,-69.14806 L -18.12889,-69.14279 L -18.12139,-69.1364 L -18.11778,-69.13278 L -18.10917,-69.12029 L -18.10639,-69.11585 L -18.10222,-69.10584 L -18.08861,-69.08417 L -18.08528,-69.08057 L -18.07723,-69.07472 L -18.05945,-69.07167 L -18.03889,-69.07167 L -18.03792,-69.07494 L -18.03028,-69.12779 L -18.0275,-69.13945 L -17.9825,-69.28723 L -17.97973,-69.29167 L -17.97306,-69.29889 L -17.96334,-69.30335 L -17.94806,-69.3089 L -17.92695,-69.31529 L -17.89195,-69.3214 L -17.83306,-69.31807 L -17.82,-69.31862 L -17.81445,-69.32001 L -17.79028,-69.33057 L -17.74556,-69.35556 L -17.72695,-69.37611 L -17.63556,-69.48361 L -17.63028,-69.49085 L -17.50528,-69.49973 L -17.37889,-69.50111 L -17.34778,-69.53362 L -17.29528,-69.59084 L -17.28725,-69.65619 L -17.21473,-69.6189 L -17.18472,-69.59279 L -17.13417,-69.53778 L -17.12556,-69.52528 L -17.09556,-69.47334 L -17.09361,-69.46861 L -17.09445,-69.46335 L -17.10334,-69.4514 L -17.10278,-69.4464 L -17.07222,-69.4064 L -17.055,-69.38834 L -17.05084,-69.38556 L -16.92834,-69.32224 L -16.92417,-69.31917 L -16.77806,-69.19196 L -16.71389,-69.11585 L -16.71139,-69.10445 L -16.70723,-69.09445 L -16.6875,-69.05751 L -16.68,-69.0439 L -16.66361,-69.01807 L -16.65695,-69.01112 L -16.64376,-69.0023 L -16.63651,-69.00754 L -16.62222,-69.02112 L -16.61917,-69.02528 L -16.61195,-69.0314 L -16.60695,-69.03389 L -16.59639,-69.03751 L -16.55417,-69.04112 L -16.54112,-69.04167 L -16.47306,-69.03418 L -16.41972,-68.99085 L -16.35667,-68.84056 L -16.35139,-68.82613 L -16.33973,-68.82251 L -16.32778,-68.82333 L -16.32167,-68.82445 L -16.31611,-68.82668 L -16.30639,-68.83084 L -16.3025,-68.83362 L -16.29556,-68.84084 L -16.28917,-68.84862 L -16.21222,-68.96056 L -16.20945,-68.96501 L -16.2075,-68.97 L -16.20723,-68.97723 L -16.20695,-69.04028 L -16.2075,-69.04668 L -16.20972,-69.05168 L -16.22,-69.0625 L -16.22806,-69.06834 L -16.23084,-69.07278 L -16.23139,-69.07918 L -16.22361,-69.13417 L -16.22084,-69.14584 L -16.21861,-69.15056 L -16.21306,-69.15918 L -16.20972,-69.16278 L -16.16056,-69.21195 L -16.15639,-69.21474 L -16.15139,-69.21668 L -15.625,-69.42001 L -15.61806,-69.42195 L -15.43889,-69.3325 L -15.32695,-69.26834 L -15.26472,-69.2014 L -15.25861,-69.19334 L -15.25861,-69.18779 L -15.26,-69.18224 L -15.26417,-69.17223 L -15.265,-69.16585 L -15.26417,-69.15918 L -15.26306,-69.15363 L -15.25834,-69.14418 L -15.25056,-69.13779 L -15.24583,-69.13695 L -15.23,-69.13612 L -15.22528,-69.13806 L -15.18778,-69.17084 L -15.15861,-69.19778 L -15.07945,-69.29501 L -14.97833,-69.37584 L -14.97,-69.38139 L -14.95889,-69.38417 L -14.95195,-69.38417 L -14.80861,-69.36723 L -14.8025,-69.36639 L -14.79778,-69.36418 L -14.79361,-69.36139 L -14.78334,-69.35057 L -14.77639,-69.3364 L -14.76695,-69.31056 L -14.6875,-69.2489 L -14.65417,-69.24861 L -14.61639,-69.24474 L -14.60528,-69.24167 L -14.58945,-69.23668 L -14.58472,-69.23445 L -14.57639,-69.2289 L -14.48417,-69.11557 L -14.39028,-68.99139 L -14.38334,-68.98445 L -14.37917,-68.9814 L -14.37445,-68.97945 L -14.3675,-68.97917 L -14.35667,-68.98222 L -14.34,-68.99335 L -14.33639,-68.99695 L -14.33417,-69.00195 L -14.33361,-69.00696 L -14.25417,-69.00557 L -14.24333,-68.99918 L -14.23306,-68.98862 L -14.23028,-68.98418 L -14.22556,-68.96779 L -14.22222,-68.95001 L -14.21695,-68.91278 L -14.20889,-68.86446 L -14.20667,-68.85945 L -14.20334,-68.85584 L -14.19917,-68.85306 L -14.19306,-68.85223 L -14.17445,-68.85417 L -14.04361,-68.89111 L -14.03389,-68.89557 L -14.02972,-68.89806 L -14.02,-68.90973 L -14.0075,-68.93251 L -14.00333,-68.94223 L -13.99084,-68.95778 L -13.98333,-68.96417 L -13.97084,-68.97278 L -13.96167,-68.97751 L -13.83945,-69.00168 L -13.79111,-69.01418 L -13.70778,-69.06279 L -13.64445,-69.02945 L -13.64445,-69.02251 L -13.64167,-69.01807 L -13.63833,-69.01473 L -13.63417,-69.01167 L -13.56611,-68.97917 L -13.51306,-68.96195 L -13.50056,-68.96056 L -13.45278,-68.95946 L -13.2725,-68.96056 L -13.16611,-68.96834 L -13.10333,-68.9689 L -13.09,-68.96806 L -13.02667,-68.96335 L -13.00722,-68.97168 L -12.99667,-68.97501 L -12.86972,-68.97446 L -12.86334,-68.97362 L -12.85917,-68.97084 L -12.80278,-68.92223 L -12.75889,-68.88167 L -12.75611,-68.87723 L -12.73306,-68.81557 L -12.64417,-68.76834 L -12.58472,-68.74362 L -12.50115,-68.6739 L -12.49583,-68.67751 L -12.45417,-68.69862 L -12.37806,-68.73639 L -12.35028,-68.74945 L -12.08695,-68.88028 L -12.00361,-68.9225 L -11.99306,-68.92807 L -11.94472,-68.95723 L -11.89611,-68.98723 L -11.87528,-69.00084 L -11.76417,-69.06946 L -11.4725,-69.2489 L -11.17361,-69.43251 L -11.0625,-69.50057 L -10.95109,-69.56844 L -10.95056,-69.56751 L -10.95222,-69.54056 L -10.95111,-69.48695 L -10.94806,-69.45084 L -10.94722,-69.44446 L -10.93778,-69.41223 L -10.95083,-69.22278 L -10.96722,-69.07613 L -11.01611,-68.84889 L -11.125,-68.78445 L -11.13361,-68.77918 L -11.13639,-68.77473 L -11.13972,-68.76418 L -11.14056,-68.75778 L -11.13472,-68.70056 L -11.12445,-68.65472 L -11.11639,-68.62083 L -11.10614,-68.58345 L -11.1,-68.56946 L -11.08889,-68.55223 L -11.06834,-68.53111 L -11.06,-68.52528 L -11.05445,-68.51695 L -11.01778,-68.40251 L -11.00611,-68.35667 L -11.0075,-68.3439 L -11.00695,-68.33778 L -10.99667,-68.31307 L -10.98556,-68.28917 L -10.98,-68.28056 L -10.97667,-68.27695 L -10.91167,-68.23029 L -10.76417,-68.12668 L -10.75445,-68.12251 L -10.74889,-68.12112 L -10.72945,-68.11974 L -10.72472,-68.11751 L -10.70528,-68.10196 L -10.69028,-68.08223 L -10.67639,-68.06111 L -10.66278,-68.02585 L -10.65778,-68.00945 L -10.65695,-67.86585 L -10.6575,-67.84557 L -10.66111,-67.82779 L -10.66528,-67.81751 L -10.68417,-67.78723 L -10.7125,-67.74556 L -10.71334,-67.73918 L -10.69472,-67.70334 L -10.62,-67.675 L -10.53222,-67.61168 L -10.52806,-67.60779 L -10.50445,-67.5825 L -10.48111,-67.52918 L -10.47278,-67.50917 L -10.44167,-67.44945 L -10.37,-67.33334 L -10.36445,-67.32501 L -10.35972,-67.32278 L -10.34167,-67.32556 L -10.33056,-67.32834 L -10.32445,-67.32752 L -10.32084,-67.32417 L -10.31806,-67.31307 L -10.31667,-67.30029 L -10.31056,-67.23639 L -10.31056,-67.22917 L -10.31333,-67.21806 L -10.32111,-67.19751 L -10.32361,-67.1864 L -10.325,-67.17445 L -10.27195,-67.08084 L -10.24361,-67.0464 L -10.17222,-66.97084 L -10.15139,-66.95001 L -10.12528,-66.92668 L -10.12111,-66.92389 L -10.09667,-66.89945 L -10.08639,-66.88806 L -9.99084,-66.76028 L -9.97695,-66.73222 L -9.96389,-66.6964 L -9.9625,-66.69057 L -9.95,-66.66139 L -9.94778,-66.6564 L -9.94222,-66.64806 L -9.93806,-66.645 L -9.92222,-66.64002 L -9.91827,-66.64026 L -9.91056,-66.63806 L -9.90695,-66.63445 L -9.90278,-66.62473 L -9.88833,-66.54889 L -9.8875,-66.54251 L -9.88111,-66.48557 L -9.8825,-66.47307 L -9.88806,-66.45001 L -9.88889,-66.44362 L -9.88945,-66.43028 L -9.88806,-66.42445 L -9.86667,-66.38335 L -9.79972,-66.18306 L -9.79472,-66.16695 L -9.77528,-66.08084 L -9.77584,-66.07445 L -9.77972,-65.97195 L -9.77778,-65.8439 L -9.775,-65.79224 L -9.77056,-65.74583 L -9.83306,-65.61279 L -9.835,-65.60779 L -9.83584,-65.60167 L -9.83695,-65.57613 L -9.83639,-65.57001 L -9.83361,-65.56557 L -9.78417,-65.5175 L -9.77945,-65.51529 L -9.76611,-65.51502 L -9.74139,-65.51222 L -9.71917,-65.49251 L -9.6792,-65.44234 L -9.68195,-65.42195 L -9.68472,-65.41057 L -9.68611,-65.40501 L -9.69222,-65.39002 L -9.69778,-65.38196 L -9.70889,-65.37195 L -9.7625,-65.34195 L -9.82806,-65.30585 L -9.83722,-65.30112 L -9.84278,-65.29945 L -9.86056,-65.30084 L -9.88917,-65.3139 L -9.90222,-65.32251 L -9.91139,-65.32723 L -9.93139,-65.33501 L -9.94306,-65.33695 L -9.95695,-65.33695 L -10.03306,-65.33362 L -10.04417,-65.33084 L -10.04917,-65.32861 L -10.07528,-65.31307 L -10.09528,-65.30528 L -10.10639,-65.30223 L -10.18917,-65.28946 L -10.20167,-65.28778 L -10.215,-65.28862 L -10.22056,-65.28973 L -10.28361,-65.30972 L -10.29389,-65.31334 L -10.30167,-65.31946 L -10.31195,-65.33 L -10.32111,-65.34195 L -10.33,-65.3539 L -10.35111,-65.375 L -10.35861,-65.38139 L -10.3725,-65.3889 L -10.39358,-65.39578 L -10.41056,-65.39084 L -10.41695,-65.39168 L -10.43195,-65.39696 L -10.43695,-65.39917 L -10.45,-65.40668 L -10.46611,-65.42584 L -10.46935,-65.44302 L -10.47924,-65.44951 L -10.61278,-65.43918 L -10.62472,-65.43695 L -10.75584,-65.39002 L -10.84083,-65.33862 L -10.8475,-65.33168 L -10.85962,-65.32324 L -10.88084,-65.31584 L -10.96722,-65.30057 L -10.98528,-65.30057 L -10.99056,-65.30196 L -10.99917,-65.30751 L -11.05806,-65.34334 L -11.14945,-65.39362 L -11.16972,-65.40195 L -11.26639,-65.39279 L -11.28306,-65.38863 L -11.40472,-65.34834 L -11.48072,-65.3214 L -11.49306,-65.31279 L -11.5,-65.30556 L -11.50278,-65.30139 L -11.50472,-65.2964 L -11.50528,-65.28307 L -11.50167,-65.25835 L -11.505,-65.24085 L -11.50722,-65.23557 L -11.51,-65.2314 L -11.51667,-65.22446 L -11.52083,-65.22139 L -11.61195,-65.16863 L -11.6175,-65.17029 L -11.65639,-65.18834 L -11.68556,-65.20084 L -11.71167,-65.20917 L -11.74,-65.20252 L -11.75195,-65.19334 L -11.75806,-65.18556 L -11.7725,-65.16501 L -11.77722,-65.14862 L -11.76945,-65.14223 L -11.70861,-65.13417 L -11.69945,-65.12946 L -11.69276,-65.12149 L -11.69528,-65.11528 L -11.69889,-65.11168 L -11.7525,-65.06334 L -11.75722,-65.0614 L -11.80972,-65.04334 L -11.88167,-65.03557 L -11.97,-65.01695 L -11.98945,-65.00835 L -12.00806,-64.99167 L -12.01417,-64.97696 L -12.02334,-64.89612 L -12.02278,-64.84251 L -12.02361,-64.82918 L -12.0275,-64.81195 L -12.02972,-64.80724 L -12.03778,-64.79445 L -12.04528,-64.78778 L -12.09778,-64.76334 L -12.14945,-64.73973 L -12.15306,-64.73639 L -12.20889,-64.62251 L -12.21306,-64.61279 L -12.24195,-64.51973 L -12.2425,-64.51334 L -12.36417,-64.49834 L -12.36833,-64.49556 L -12.44111,-64.4214 L -12.45451,-64.40471 L -12.46167,-64.39418 L -12.46833,-64.37306 L -12.48207,-64.2933 L -12.47917,-64.23889 L -12.48556,-64.17639 L -12.51,-64.04889 L -12.51195,-64.0439 L -12.51889,-64.03696 L -12.53111,-64.02834 L -12.53472,-64.02473 L -12.53945,-64.01529 L -12.54972,-63.94029 L -12.55028,-63.93389 L -12.54454,-63.91884 L -12.52861,-63.89861 L -12.49389,-63.87056 L -12.47417,-63.8325 L -12.46,-63.7975 L -12.47056,-63.67195 L -12.56445,-63.47611 L -12.57639,-63.46667 L -12.58739,-63.46429 L -12.60445,-63.46445 L -12.65389,-63.41556 L -12.66836,-63.39462 L -12.70334,-63.33139 L -12.70508,-63.31835 L -12.70722,-63.25279 L -12.70445,-63.24139 L -12.69472,-63.23028 L -12.68,-63.21695 L -12.67445,-63.20862 L -12.64889,-63.16334 L -12.63635,-63.13664 L -12.63541,-63.13005 L -12.65,-63.07501 L -12.65612,-63.06697 L -12.66028,-63.06417 L -12.67307,-63.06226 L -12.6919,-63.06321 L -12.70389,-63.06139 L -12.74306,-63.05167 L -12.75195,-63.04667 L -12.83933,-62.99417 L -12.8529,-62.97376 L -12.90028,-62.89667 L -12.94234,-62.84384 L -13.00584,-62.76973 L -12.9675,-62.69917 L -12.96588,-62.6932 L -12.96667,-62.68723 L -12.97435,-62.67342 L -12.99695,-62.64706 L -13.00083,-62.64417 L -13.0075,-62.64417 L -13.02417,-62.64806 L -13.03084,-62.64706 L -13.03389,-62.64389 L -13.13252,-62.41922 L -13.14583,-62.38473 L -13.14778,-62.33083 L -13.14361,-62.27695 L -13.13817,-62.26011 L -13.12945,-62.24889 L -13.12389,-62.24028 L -13.12,-62.22278 L -13.12195,-62.20473 L -13.14834,-62.12195 L -13.1525,-62.11195 L -13.157,-62.11041 L -13.18333,-62.10973 L -13.27139,-62.08556 L -13.36222,-62.0025 L -13.37543,-61.97295 L -13.39583,-61.94445 L -13.44887,-61.87786 L -13.45222,-61.87445 L -13.45734,-61.87221 L -13.48088,-61.86845 L -13.52722,-61.8514 L -13.53831,-61.84208 L -13.54472,-61.83389 L -13.54867,-61.81007 L -13.53737,-61.73286 L -13.53639,-61.7275 L -13.51306,-61.61639 L -13.50724,-61.59353 L -13.52222,-61.58083 L -13.52972,-61.57417 L -13.54833,-61.52972 L -13.55243,-61.51256 L -13.55334,-61.49278 L -13.52309,-61.26164 L -13.49312,-61.03898 L -13.54083,-61.00417 L -13.58278,-60.95778 L -13.67655,-60.79937 L -13.68236,-60.78384 L -13.6833,-60.77065 L -13.68236,-60.74429 L -13.73861,-60.67556 L -13.76861,-60.58334 L -13.79972,-60.48278 L -13.80722,-60.47084 L -13.98445,-60.3839 L -13.99007,-60.38511 L -14.02972,-60.40056 L -14.05972,-60.41917 L -14.07445,-60.4325 L -14.09083,-60.45862 L -14.09861,-60.46473 L -14.10889,-60.46806 L -14.15139,-60.48084 L -14.16896,-60.48303 L -14.17555,-60.48208 L -14.28586,-60.45242 L -14.29639,-60.44862 L -14.32431,-60.42748 L -14.48342,-60.3465 L -14.62334,-60.28111 L -14.70667,-60.27612 L -14.91361,-60.26445 L -15.03667,-60.26 L -15.09361,-60.2589 L -15.09445,-60.2925 L -15.0925,-60.38473 L -15.0975,-60.5714 L -15.24139,-60.43973 L -15.47861,-60.22723 L -15.97361,-60.18445 L -15.98722,-60.18417 L -16.26306,-60.16028 L -16.26584,-60.10667 L -16.28917,-59.53278 L -16.31084,-58.97278 L -16.32667,-58.54195 L -16.33,-58.44445 L -16.32945,-58.43389 L -16.32278,-58.41945 L -16.31722,-58.41056 L -16.30972,-58.40362 L -16.30139,-58.39778 L -16.28778,-58.39111 L -16.27806,-58.38667 L -16.27917,-58.32751 L -16.30667,-58.32584 L -16.39611,-58.32445 L -16.50611,-58.34639 L -16.5225,-58.35889 L -16.52917,-58.36528 L -16.55306,-58.39778 L -16.57361,-58.41945 L -16.59,-58.43167 L -16.63917,-58.46584 L -16.64889,-58.47 L -16.67463,-58.47577 L -16.72167,-58.4764 L -16.89417,-58.46417 L -16.90722,-58.46278 L -16.91889,-58.46056 L -16.93,-58.45695 L -16.94861,-58.44806 L -16.95695,-58.44222 L -16.96584,-58.43723 L -16.97611,-58.43306 L -17.00972,-58.42445 L -17.10556,-58.40806 L -17.11861,-58.40667 L -17.13834,-58.40667 L -17.19056,-58.40945 L -17.22639,-58.40306 L -17.24917,-58.39751 L -17.25806,-58.39195 L -17.26556,-58.38612 L -17.27889,-58.37112 L -17.28722,-58.35111 L -17.29223,-58.32806 L -17.29361,-58.31583 L -17.29973,-58.29445 L -17.32612,-58.25 L -17.40806,-58.12222 L -17.4175,-58.1189 L -17.43889,-58.10889 L -17.45556,-58.09167 L -17.49556,-58.02278 L -17.49973,-58.01056 L -17.50288,-57.98817 L -17.46195,-57.90167 L -17.47695,-57.88084 L -17.55361,-57.78806 L -17.58027,-57.75622 L -17.59306,-57.74306 L -17.60111,-57.74139 L -17.60861,-57.76251 L -17.61695,-57.76917 L -17.63774,-57.77948 L -17.68695,-57.75917 L -17.71722,-57.73306 L -17.72389,-57.72584 L -17.72758,-57.71729 L -17.775,-57.72112 L -17.845,-57.7189 L -18.09611,-57.58167 L -18.20389,-57.52112 L -18.24028,-57.54889 L -18.25333,-57.55584 L -18.27472,-57.56334 L -18.46806,-57.62695 L -18.90278,-57.76945 L -18.90945,-57.77112 L -18.91389,-57.71973 L -18.93445,-57.71667 L -19.04361,-57.70473 L -19.0475,-57.77667 L -19.06806,-57.78722 L -19.13722,-57.8214 L -19.20639,-57.855 L -19.42111,-57.96056 L -19.67722,-58.08723 L -19.74139,-58.12112 L -19.76028,-58.10334 L -19.97164,-57.85569 L -19.97879,-57.84875 L -20.02389,-57.89306 L -20.02723,-57.89751 L -20.0325,-57.9064 L -20.14917,-58.10973 L -20.16806,-58.15889 L -20.11917,-58.13806 L -20.11361,-58.13639 L -20.08223,-58.13306 L -19.99223,-58.13056 L -19.98,-58.13195 L -19.82806,-58.15139 L -19.7825,-58.23222 L -19.76417,-58.26806 L -19.63862,-58.52056 L -19.34889,-59.09584 L -19.34556,-59.1564 L -19.32167,-59.57362 L -19.29695,-59.97278 L -19.29667,-59.99084 L -19.29943,-60.01594 L -19.30473,-60.02112 L -19.31472,-60.0575 L -19.41084,-60.42445 L -19.43472,-60.5164 L -19.45917,-60.61334 L -19.49028,-60.79639 L -19.58306,-61.35722 L -19.63334,-61.66889 L -19.645,-61.7425 L -19.72472,-61.77445 L -19.91084,-61.8475 L -20.08001,-61.91307 L -20.3375,-62.10195 L -20.47139,-62.19884 L -20.56223,-62.26945 L -20.62195,-62.26778 L -20.74223,-62.26528 L -21.00052,-62.26109 L -21.05695,-62.2589 L -21.71417,-62.47056 L -21.765,-62.48612 L -22.12056,-62.60111 L -22.22195,-62.63417 L -22.2389,-62.64377 L -22.23778,-62.65501 L -22.23473,-62.65945 L -22.15472,-62.76501 L -22.12278,-62.78945 L -22.10806,-62.79528 L -22.10195,-62.79556 L -22.08556,-62.79056 L -22.05889,-62.79278 L -22.02222,-62.79917 L -22.01667,-62.80029 L -22.00695,-62.80417 L -21.99907,-62.80834 L -21.99695,-62.81195 L -21.99667,-62.83028 L -21.99778,-62.88612 L -22.00056,-63.13028 L -22.00333,-63.59334 L -22.00278,-63.73306 L -22.00084,-63.94112 L -22.09445,-63.99306 L -22.24973,-64.05862 L -22.41028,-64.12668 L -22.46639,-64.16945 L -22.47445,-64.17584 L -22.49111,-64.19446 L -22.49778,-64.20252 L -22.50861,-64.22029 L -22.51722,-64.22585 L -22.54973,-64.24417 L -22.56778,-64.25334 L -22.63862,-64.27779 L -22.64945,-64.2814 L -22.65556,-64.2825 L -22.7275,-64.28612 L -22.75445,-64.28389 L -22.8325,-64.30139 L -22.86056,-64.31639 L -22.87361,-64.32472 L -22.87167,-64.33862 L -22.86945,-64.3439 L -22.86445,-64.34584 L -22.84306,-64.34807 L -22.81417,-64.34778 L -22.76722,-64.35251 L -22.74084,-64.36 L -22.73667,-64.3625 L -22.68361,-64.4164 L -22.64834,-64.45252 L -22.64333,-64.45445 L -22.63223,-64.45668 L -22.61861,-64.45584 L -22.6125,-64.45473 L -22.58,-64.44389 L -22.51445,-64.46195 L -22.40889,-64.52612 L -22.29889,-64.54363 L -22.28861,-64.53946 L -22.2825,-64.53835 L -22.27639,-64.5389 L -22.26667,-64.54251 L -22.25445,-64.55139 L -22.21473,-64.59056 L -22.21167,-64.59473 L -22.16972,-64.67168 L -22.17722,-64.68611 L -22.18084,-64.69667 L -22.18278,-64.70862 L -22.18139,-64.72278 L -22.11,-64.96445 L -22.10528,-64.97446 L -22.09084,-64.98834 L -22.09473,-65.1902 z\" /></g></svg>"
      ],
      "text/plain": [
       "<POLYGON ((-22.095 -65.19, -22.1 -65.599, -22.109 -65.658, -22.113 -65.734, ...>"
      ]
     },
     "execution_count": 93,
     "metadata": {},
     "output_type": "execute_result"
    }
   ],
   "source": [
    "bolivia_polygon"
   ]
  },
  {
   "cell_type": "code",
   "execution_count": 98,
   "id": "ec2ab0ae-c06f-4e1f-84ce-c4f83f700ed6",
   "metadata": {},
   "outputs": [],
   "source": [
    "# Convertimos los strings de la columna tile a tipo Polygon\n",
    "df['tile'] = [shapely.wkt.loads(polygon) for polygon in df['tile']]"
   ]
  },
  {
   "cell_type": "code",
   "execution_count": 103,
   "id": "10006552-ba18-45bf-8c78-33871bbbc17c",
   "metadata": {},
   "outputs": [],
   "source": [
    "# Recuperamos todos los índices de los records que pertenecen a Bolivia\n",
    "bolivian_records = [i for i, polygon in enumerate(df['tile']) if polygon.within(bolivia_polygon)]"
   ]
  },
  {
   "cell_type": "code",
   "execution_count": 102,
   "id": "95bac456-84a2-430c-8727-4cdb827864c7",
   "metadata": {},
   "outputs": [
    {
     "data": {
      "text/plain": [
       "[]"
      ]
     },
     "execution_count": 102,
     "metadata": {},
     "output_type": "execute_result"
    }
   ],
   "source": [
    "bolivian_records"
   ]
  },
  {
   "cell_type": "code",
   "execution_count": 106,
   "id": "80705a7c-3cf3-46dd-9809-394f972b15db",
   "metadata": {},
   "outputs": [],
   "source": [
    "tp = Polygon([(-14.822119, -71.688163), (-14.843360, -70.523613), (-15.680661, -71.644218), (-16.039976, -70.084160)])"
   ]
  },
  {
   "cell_type": "code",
   "execution_count": 109,
   "id": "0585aa07-a912-42b5-8173-cef2a771c7eb",
   "metadata": {},
   "outputs": [
    {
     "data": {
      "text/plain": [
       "False"
      ]
     },
     "execution_count": 109,
     "metadata": {},
     "output_type": "execute_result"
    }
   ],
   "source": [
    "df['tile'][56315].within(bolivia_polygon)"
   ]
  },
  {
   "cell_type": "code",
   "execution_count": null,
   "id": "3b79e012-1a63-48d3-91dd-b608c1ccf9c9",
   "metadata": {},
   "outputs": [],
   "source": [
    "!pip uninstall pycountry"
   ]
  }
 ],
 "metadata": {
  "kernelspec": {
   "display_name": "Python 3 (ipykernel)",
   "language": "python",
   "name": "python3"
  },
  "language_info": {
   "codemirror_mode": {
    "name": "ipython",
    "version": 3
   },
   "file_extension": ".py",
   "mimetype": "text/x-python",
   "name": "python",
   "nbconvert_exporter": "python",
   "pygments_lexer": "ipython3",
   "version": "3.10.9"
  }
 },
 "nbformat": 4,
 "nbformat_minor": 5
}
