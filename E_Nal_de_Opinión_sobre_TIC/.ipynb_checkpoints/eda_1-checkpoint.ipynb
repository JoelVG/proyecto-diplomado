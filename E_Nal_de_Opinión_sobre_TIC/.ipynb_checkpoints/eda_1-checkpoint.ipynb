{
 "cells": [
  {
   "cell_type": "code",
   "execution_count": 6,
   "id": "2a246716-5a5a-4e7c-8435-7407b98e8a29",
   "metadata": {},
   "outputs": [],
   "source": [
    "import json"
   ]
  },
  {
   "cell_type": "code",
   "execution_count": 7,
   "id": "34ccc8e4-4ebe-48e4-abdd-02ad81a69a79",
   "metadata": {},
   "outputs": [
    {
     "name": "stdout",
     "output_type": "stream",
     "text": [
      "Requirement already satisfied: pypdf2 in c:\\users\\cmjav\\miniconda3\\envs\\diplo\\lib\\site-packages (3.0.1)\n",
      "Requirement already satisfied: typing_extensions>=3.10.0.0 in c:\\users\\cmjav\\miniconda3\\envs\\diplo\\lib\\site-packages (from pypdf2) (4.4.0)\n"
     ]
    }
   ],
   "source": [
    "!pip install pypdf2"
   ]
  },
  {
   "cell_type": "code",
   "execution_count": 8,
   "id": "e65d76a8-ac45-43b1-a82a-dea60371b613",
   "metadata": {},
   "outputs": [],
   "source": [
    "from PyPDF2 import PdfReader"
   ]
  },
  {
   "cell_type": "code",
   "execution_count": 9,
   "id": "48c0dbd3-f598-4a8b-9375-d20acb8c47f0",
   "metadata": {},
   "outputs": [],
   "source": [
    "def text_extractor(path: str):\n",
    "    reader = PdfReader(path)\n",
    "    page = reader.pages[0]\n",
    "    return page.extract_text()"
   ]
  },
  {
   "cell_type": "code",
   "execution_count": 35,
   "id": "6d474ae7-70e1-4245-ad6c-5996c10e21fa",
   "metadata": {},
   "outputs": [],
   "source": [
    "def process_data_dictionary(txt: str):\n",
    "    data = []\n",
    "    ntext = txt.split(\"\\n\") # Maybe split by valo\n",
    "    for i, t in enumerate(ntext):\n",
    "        if \"Valo\" in t:\n",
    "            text = ntext[i+2].split()\n",
    "            if len(text) > 1 and \"Etiqueta\" in text:\n",
    "                nquestion = text[1] # Number of question\n",
    "                question = \" \".join(text[2:]) # Text question\n",
    "                qtype = ntext[i+3] # Question type\n",
    "                if \"Tipo\" not in qtype: # The question continue\n",
    "                    question += \" \" + \"\".join(ntext[i+3])\n",
    "                    qtype = ntext[i+4].split()[1] # Updating Question type\n",
    "                rtype = ntext[i+6].split()[1] if \"Medición\" in ntext[i+6] else None\n",
    "                n_value = i+7\n",
    "                # Get answers options \n",
    "                options = {}\n",
    "                while \"Valo\" not in ntext[n_value] and rtype:\n",
    "                    opt = ntext[n_value].split()\n",
    "                    options[opt[0].strip()] = opt[1].strip()\n",
    "                    n_value += 1\n",
    "                data.append({\n",
    "                    \"nq\": nquestion,\n",
    "                    \"question\": question,\n",
    "                    \"qtype\": qtype,\n",
    "                    \"rtype\": rtype,\n",
    "                    \"options\": options\n",
    "                    \n",
    "                })\n",
    "    # Serializing json\n",
    "    json_object = json.dumps(data, indent=4, ensure_ascii=False)\n",
    "    print(json_object)\n",
    "    # for d in data:\n",
    "    #     print(d)\n",
    "    # print(data)\n",
    "    "
   ]
  },
  {
   "cell_type": "code",
   "execution_count": 11,
   "id": "62793d38-02f8-4d3e-8510-05eaf7d3e599",
   "metadata": {},
   "outputs": [
    {
     "name": "stdout",
     "output_type": "stream",
     "text": [
      "Valo r\n",
      "Posición 2\n",
      "Etiqueta 1. ¿Me podría decir su edad por favor?\n",
      "Tipo Numérico\n",
      "Formato F2\n",
      "Medición Escala\n",
      "Valo r\n",
      "Posición 3\n",
      "Etiqueta 2. ¿Usted ha navegado por Internet o se ha conectado a alguna r ed social a través de \n",
      "Internet?\n",
      "Tipo Numérico\n",
      "Formato F1\n",
      "Medición Nominal\n",
      "1 Si\n",
      "2 No\n",
      "Valo r\n",
      "Posición 4\n",
      "Etiqueta 3. ¿Cuándo fue la última vez que navegó en Internet o estuvo co nectado a las redes \n",
      "sociales?\n",
      "Tipo Numérico\n",
      "Formato F1\n",
      "Medición Nominal\n",
      "1 Hace 7 días o menos\n",
      "2 Entre 8 a 15 días\n",
      "3 Entre 16 a 30 días\n",
      "4 Hace más de 30 días\n",
      "Valo r\n",
      "Posición 5\n",
      "Etiqueta 1a. ¿Cuáles son las razones por las cuales no se conecta a Inte rnet regularmente?\n",
      "Tipo Numérico\n",
      "Formato F1\n",
      "Medición Nominal\n",
      "1 No existe el servicio en el barrio/localidad\n",
      "2 El costo del servicio alto\n",
      "3 No tiene equipos para conectarse\n",
      "4 No sabe qué es Internet\n",
      "5 No sabe cómo usar Internet\n",
      "6 No está interesado en Internet\n",
      "7 El contenido de Internet es malo\n",
      "8 Otro\n",
      "Valo r\n",
      "Posición 6\n",
      "Etiqueta 1a. ¿Cuáles son las razones por las cuales no se conecta a Inte rnet regularmente?\n",
      "Tipo Numérico\n",
      "Formato F1\n",
      "Medición Nominal\n",
      "1 No existe el servicio en el barrio/localidad\n",
      "2 El costo del servicio alto\n",
      "3 No tiene equipos para conectarse\n",
      "4 No sabe qué es Internet\n",
      "5 No sabe cómo usar Internet\n",
      "6 No está interesado en Internet\n",
      "7 El contenido de Internet es malo\n",
      "8 OtroP1B\n",
      "Atributos \n",
      "estándar\n",
      "Valores válidosValores válidos\n",
      "P1A\n",
      "Atributos \n",
      "estándar\n",
      "Valores válidosAtributos \n",
      "estándar\n",
      "Valores válidos\n",
      "P3\n",
      "Atributos \n",
      "estándarP1\n",
      "Atributos \n",
      "estándar\n",
      "P2\n"
     ]
    }
   ],
   "source": [
    "path = \"diccionario20de20codigos.pdf\"\n",
    "text = text_extractor(path)\n",
    "print(text)"
   ]
  },
  {
   "cell_type": "code",
   "execution_count": 36,
   "id": "7dc194c1-3ac5-45d5-8416-e995e35de3d0",
   "metadata": {},
   "outputs": [
    {
     "name": "stdout",
     "output_type": "stream",
     "text": [
      "[\n",
      "    {\n",
      "        \"nq\": \"1.\",\n",
      "        \"question\": \"¿Me podría decir su edad por favor?\",\n",
      "        \"qtype\": \"Tipo Numérico\",\n",
      "        \"rtype\": null,\n",
      "        \"options\": {}\n",
      "    },\n",
      "    {\n",
      "        \"nq\": \"2.\",\n",
      "        \"question\": \"¿Usted ha navegado por Internet o se ha conectado a alguna r ed social a través de Internet?\",\n",
      "        \"qtype\": \"Numérico\",\n",
      "        \"rtype\": \"Nominal\",\n",
      "        \"options\": {\n",
      "            \"1\": \"Si\",\n",
      "            \"2\": \"No\"\n",
      "        }\n",
      "    },\n",
      "    {\n",
      "        \"nq\": \"3.\",\n",
      "        \"question\": \"¿Cuándo fue la última vez que navegó en Internet o estuvo co nectado a las redes sociales?\",\n",
      "        \"qtype\": \"Numérico\",\n",
      "        \"rtype\": \"Nominal\",\n",
      "        \"options\": {\n",
      "            \"1\": \"Hace\",\n",
      "            \"2\": \"Entre\",\n",
      "            \"3\": \"Entre\",\n",
      "            \"4\": \"Hace\"\n",
      "        }\n",
      "    },\n",
      "    {\n",
      "        \"nq\": \"1a.\",\n",
      "        \"question\": \"¿Cuáles son las razones por las cuales no se conecta a Inte rnet regularmente?\",\n",
      "        \"qtype\": \"Tipo Numérico\",\n",
      "        \"rtype\": null,\n",
      "        \"options\": {}\n",
      "    },\n",
      "    {\n",
      "        \"nq\": \"1a.\",\n",
      "        \"question\": \"¿Cuáles son las razones por las cuales no se conecta a Inte rnet regularmente?\",\n",
      "        \"qtype\": \"Tipo Numérico\",\n",
      "        \"rtype\": null,\n",
      "        \"options\": {}\n",
      "    }\n",
      "]\n"
     ]
    }
   ],
   "source": [
    "process_data_dictionary(text)"
   ]
  },
  {
   "cell_type": "code",
   "execution_count": null,
   "id": "47a55338-1a60-4247-8a63-d092d23ec09a",
   "metadata": {},
   "outputs": [],
   "source": []
  }
 ],
 "metadata": {
  "kernelspec": {
   "display_name": "Python 3 (ipykernel)",
   "language": "python",
   "name": "python3"
  },
  "language_info": {
   "codemirror_mode": {
    "name": "ipython",
    "version": 3
   },
   "file_extension": ".py",
   "mimetype": "text/x-python",
   "name": "python",
   "nbconvert_exporter": "python",
   "pygments_lexer": "ipython3",
   "version": "3.9.13"
  }
 },
 "nbformat": 4,
 "nbformat_minor": 5
}
