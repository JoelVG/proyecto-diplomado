{
 "cells": [
  {
   "cell_type": "code",
   "execution_count": 1,
   "id": "2a246716-5a5a-4e7c-8435-7407b98e8a29",
   "metadata": {},
   "outputs": [],
   "source": [
    "import json"
   ]
  },
  {
   "cell_type": "code",
   "execution_count": 7,
   "id": "34ccc8e4-4ebe-48e4-abdd-02ad81a69a79",
   "metadata": {},
   "outputs": [
    {
     "name": "stdout",
     "output_type": "stream",
     "text": [
      "Requirement already satisfied: pypdf2 in c:\\users\\cmjav\\miniconda3\\envs\\diplo\\lib\\site-packages (3.0.1)\n",
      "Requirement already satisfied: typing_extensions>=3.10.0.0 in c:\\users\\cmjav\\miniconda3\\envs\\diplo\\lib\\site-packages (from pypdf2) (4.4.0)\n"
     ]
    }
   ],
   "source": [
    "!pip install pypdf2"
   ]
  },
  {
   "cell_type": "code",
   "execution_count": 2,
   "id": "e65d76a8-ac45-43b1-a82a-dea60371b613",
   "metadata": {},
   "outputs": [],
   "source": [
    "from PyPDF2 import PdfReader"
   ]
  },
  {
   "cell_type": "code",
   "execution_count": 59,
   "id": "48c0dbd3-f598-4a8b-9375-d20acb8c47f0",
   "metadata": {},
   "outputs": [],
   "source": [
    "def text_extractor(path: str):\n",
    "    reader = PdfReader(path)\n",
    "    # page = reader.pages[0]\n",
    "    return reader.pages\n",
    "    # return page.extract_text()"
   ]
  },
  {
   "cell_type": "code",
   "execution_count": 120,
   "id": "6d474ae7-70e1-4245-ad6c-5996c10e21fa",
   "metadata": {},
   "outputs": [],
   "source": [
    "def process_data_dictionary(pages):\n",
    "    data = []\n",
    "    for page in pages:\n",
    "        txt = page.extract_text()\n",
    "        ntext = txt.split(\"\\n\") # Split text by jumplines\n",
    "        for i, t in enumerate(ntext):\n",
    "            if \"Valo r\" in t:\n",
    "                text = ntext[i+2].split()\n",
    "                if len(text) > 1 and \"Etiqueta\" in text:\n",
    "                    nquestion = text[1] # Number of question\n",
    "                    question = \" \".join(text[2:]) # Text question\n",
    "                    qtype = ntext[i+3] # Question type\n",
    "                    if \"Tipo\" not in qtype: # The question continue\n",
    "                        question += \" \" + \"\".join(ntext[i+3])\n",
    "                        qtype = ntext[i+4].split()[1] if \"Tipo\" in ntext[i+4] else None # Updating Question type\n",
    "                        rtype = ntext[i+6].split()[1] if \"Medición\" in ntext[i+6] else None\n",
    "                        n_value = i+7 # Next Value\n",
    "                    else:\n",
    "                        qtype = qtype.split()[1] # Removing 'Tipo'\n",
    "                        rtype = ntext[i+5].split()[1] if \"Medición\" in ntext[i+5] else None\n",
    "                        n_value = i+6 # Next Value\n",
    "                    # Get answers options \n",
    "                    options = {}\n",
    "                    try:\n",
    "                        while \"Valo\" not in ntext[n_value] and rtype:\n",
    "                            opt = ntext[n_value].split()\n",
    "                            options[opt[0].strip()] = \" \".join(opt[1:])\n",
    "                            n_value += 1\n",
    "                    except Exception as e: # Ignore 2 questions (implies much effort to fix)\n",
    "                        print(f\"Exception: {e}\\nNLINE: {n_value}\\nText:{t}\\n\")\n",
    "                    data.append({\n",
    "                        \"nq\": nquestion,\n",
    "                        \"question\": question,\n",
    "                        \"qtype\": qtype,\n",
    "                        \"rtype\": rtype,\n",
    "                        \"options\": options\n",
    "\n",
    "                    })\n",
    "                    n_value = 0\n",
    "        # Serializing json\n",
    "    json_object = json.dumps(data, indent=4, ensure_ascii=False)\n",
    "        \n",
    "    # Writing to sample.json\n",
    "    with open(\"data_dict_e_nal.json\", \"w\", encoding=\"utf-8\") as outfile:\n",
    "        outfile.write(json_object)"
   ]
  },
  {
   "cell_type": "code",
   "execution_count": 121,
   "id": "62793d38-02f8-4d3e-8510-05eaf7d3e599",
   "metadata": {},
   "outputs": [],
   "source": [
    "path = \"diccionario20de20codigos.pdf\"\n",
    "pages = text_extractor(path)\n",
    "# print(pages[0].extract_text())"
   ]
  },
  {
   "cell_type": "code",
   "execution_count": 122,
   "id": "7dc194c1-3ac5-45d5-8416-e995e35de3d0",
   "metadata": {},
   "outputs": [
    {
     "name": "stdout",
     "output_type": "stream",
     "text": [
      "Generating json..\n",
      "list index out of range \n",
      "NLINE: 66\n",
      "Valo r\n",
      "list index out of range \n",
      "NLINE: 67\n",
      "Valo r\n"
     ]
    }
   ],
   "source": [
    "print(\"Generating json..\")\n",
    "process_data_dictionary(pages)"
   ]
  }
 ],
 "metadata": {
  "kernelspec": {
   "display_name": "Python 3 (ipykernel)",
   "language": "python",
   "name": "python3"
  },
  "language_info": {
   "codemirror_mode": {
    "name": "ipython",
    "version": 3
   },
   "file_extension": ".py",
   "mimetype": "text/x-python",
   "name": "python",
   "nbconvert_exporter": "python",
   "pygments_lexer": "ipython3",
   "version": "3.10.9"
  }
 },
 "nbformat": 4,
 "nbformat_minor": 5
}
